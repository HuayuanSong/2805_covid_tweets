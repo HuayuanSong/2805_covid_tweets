{
 "cells": [
  {
   "cell_type": "code",
   "execution_count": 54,
   "id": "e0a01875-70e8-4881-b022-d167c286d8bf",
   "metadata": {},
   "outputs": [],
   "source": [
    "import tweepy\n",
    "import re\n",
    "import requests\n",
    "import pandas as pd\n",
    "from tqdm.auto import tqdm\n",
    "import numpy as np\n",
    "\n",
    "def get_tweets(tweet_ids):\n",
    "    client = tweepy.Client(\n",
    "        bearer_token=\"AAAAAAAAAAAAAAAAAAAAAJhtiwEAAAAAnSH7LB8LCFaBffd9NrgflhozHQ8%3Dgl3augKz2Chu0iqikKNcszMsnvQxzPURyiCyQx0DjNwhDDpddO\",\n",
    "        consumer_key=\"x0ZhcTVGaRmabZ0wzw7cA6TFt\",\n",
    "        consumer_secret=\"CuI7c9JT8d8PkqkjK73JmTmSiowSQVLpQSAD7KlPwX2DfvKsm7\",\n",
    "        access_token=\"1454490866597441542-qkkzuAWHrfd84M2DDSBiHQtxjGi6GV\",\n",
    "        access_token_secret=\"n9X2PFuzNlxfgJdb54Uqkj0SzLIxQDWqW50ZYFZvfdPBi\",\n",
    "    )\n",
    "\n",
    "    response = client.get_tweets(ids=tweet_ids)\n",
    "    tweets = [tweet.text for tweet in tqdm(response.data)]\n",
    "    errors = [error['value'] for error in response.errors]\n",
    "    \n",
    "    return tweets, errors"
   ]
  },
  {
   "cell_type": "code",
   "execution_count": 2,
   "id": "7b6da010-71fe-478d-8e09-174050910cbc",
   "metadata": {},
   "outputs": [
    {
     "name": "stderr",
     "output_type": "stream",
     "text": [
      "/Users/huayuan/opt/anaconda3/lib/python3.8/site-packages/numpy/lib/arraysetops.py:580: FutureWarning: elementwise comparison failed; returning scalar instead, but in the future will perform elementwise comparison\n",
      "  mask |= (ar1 == a)\n"
     ]
    }
   ],
   "source": [
    "data_df = pd.read_csv(\"Data/project_tweet_data.csv\",index_col=0)"
   ]
  },
  {
   "cell_type": "code",
   "execution_count": 3,
   "id": "78fcdcbb-55b1-4ace-8ea0-75dc4017128f",
   "metadata": {},
   "outputs": [
    {
     "data": {
      "text/html": [
       "<div>\n",
       "<style scoped>\n",
       "    .dataframe tbody tr th:only-of-type {\n",
       "        vertical-align: middle;\n",
       "    }\n",
       "\n",
       "    .dataframe tbody tr th {\n",
       "        vertical-align: top;\n",
       "    }\n",
       "\n",
       "    .dataframe thead th {\n",
       "        text-align: right;\n",
       "    }\n",
       "</style>\n",
       "<table border=\"1\" class=\"dataframe\">\n",
       "  <thead>\n",
       "    <tr style=\"text-align: right;\">\n",
       "      <th></th>\n",
       "      <th>tweet_ID</th>\n",
       "      <th>user_id</th>\n",
       "      <th>keywords</th>\n",
       "      <th>tweet_timestamp</th>\n",
       "      <th>valence_intensity</th>\n",
       "      <th>fear_intensity</th>\n",
       "      <th>anger_intensity</th>\n",
       "      <th>happiness_intensity</th>\n",
       "      <th>sadness_intensity</th>\n",
       "      <th>sentiment</th>\n",
       "      <th>emotion</th>\n",
       "    </tr>\n",
       "  </thead>\n",
       "  <tbody>\n",
       "    <tr>\n",
       "      <th>0</th>\n",
       "      <td>1234289474479239168</td>\n",
       "      <td>303154079</td>\n",
       "      <td>covid</td>\n",
       "      <td>2020-03-02 01:28:37</td>\n",
       "      <td>0.380</td>\n",
       "      <td>0.516</td>\n",
       "      <td>0.454</td>\n",
       "      <td>0.207</td>\n",
       "      <td>0.458</td>\n",
       "      <td>-1</td>\n",
       "      <td>F</td>\n",
       "    </tr>\n",
       "    <tr>\n",
       "      <th>1</th>\n",
       "      <td>1234289531228237824</td>\n",
       "      <td>566536507</td>\n",
       "      <td>covid</td>\n",
       "      <td>2020-03-02 01:28:50</td>\n",
       "      <td>0.765</td>\n",
       "      <td>0.289</td>\n",
       "      <td>0.248</td>\n",
       "      <td>0.638</td>\n",
       "      <td>0.292</td>\n",
       "      <td>2</td>\n",
       "      <td>H</td>\n",
       "    </tr>\n",
       "    <tr>\n",
       "      <th>2</th>\n",
       "      <td>1234289658445664257</td>\n",
       "      <td>248819855</td>\n",
       "      <td>covid</td>\n",
       "      <td>2020-03-02 01:29:21</td>\n",
       "      <td>0.399</td>\n",
       "      <td>0.566</td>\n",
       "      <td>0.388</td>\n",
       "      <td>0.232</td>\n",
       "      <td>0.454</td>\n",
       "      <td>-1</td>\n",
       "      <td>F</td>\n",
       "    </tr>\n",
       "    <tr>\n",
       "      <th>3</th>\n",
       "      <td>1234289759092191232</td>\n",
       "      <td>248819855</td>\n",
       "      <td>covid</td>\n",
       "      <td>2020-03-02 01:29:45</td>\n",
       "      <td>0.380</td>\n",
       "      <td>0.612</td>\n",
       "      <td>0.411</td>\n",
       "      <td>0.218</td>\n",
       "      <td>0.460</td>\n",
       "      <td>-1</td>\n",
       "      <td>F</td>\n",
       "    </tr>\n",
       "    <tr>\n",
       "      <th>4</th>\n",
       "      <td>1234290038965506048</td>\n",
       "      <td>248819855</td>\n",
       "      <td>covid</td>\n",
       "      <td>2020-03-02 01:30:51</td>\n",
       "      <td>0.408</td>\n",
       "      <td>0.585</td>\n",
       "      <td>0.412</td>\n",
       "      <td>0.253</td>\n",
       "      <td>0.456</td>\n",
       "      <td>-1</td>\n",
       "      <td>F</td>\n",
       "    </tr>\n",
       "  </tbody>\n",
       "</table>\n",
       "</div>"
      ],
      "text/plain": [
       "              tweet_ID    user_id keywords      tweet_timestamp  \\\n",
       "0  1234289474479239168  303154079    covid  2020-03-02 01:28:37   \n",
       "1  1234289531228237824  566536507    covid  2020-03-02 01:28:50   \n",
       "2  1234289658445664257  248819855    covid  2020-03-02 01:29:21   \n",
       "3  1234289759092191232  248819855    covid  2020-03-02 01:29:45   \n",
       "4  1234290038965506048  248819855    covid  2020-03-02 01:30:51   \n",
       "\n",
       "   valence_intensity  fear_intensity  anger_intensity  happiness_intensity  \\\n",
       "0              0.380           0.516            0.454                0.207   \n",
       "1              0.765           0.289            0.248                0.638   \n",
       "2              0.399           0.566            0.388                0.232   \n",
       "3              0.380           0.612            0.411                0.218   \n",
       "4              0.408           0.585            0.412                0.253   \n",
       "\n",
       "   sadness_intensity  sentiment emotion  \n",
       "0              0.458         -1       F  \n",
       "1              0.292          2       H  \n",
       "2              0.454         -1       F  \n",
       "3              0.460         -1       F  \n",
       "4              0.456         -1       F  "
      ]
     },
     "execution_count": 3,
     "metadata": {},
     "output_type": "execute_result"
    }
   ],
   "source": [
    "data_df.head(5)"
   ]
  },
  {
   "cell_type": "code",
   "execution_count": 4,
   "id": "7049f03d-3094-4097-abf5-72620588b8f9",
   "metadata": {},
   "outputs": [
    {
     "data": {
      "text/plain": [
       "(5984000, 11)"
      ]
     },
     "execution_count": 4,
     "metadata": {},
     "output_type": "execute_result"
    }
   ],
   "source": [
    "data_df.shape"
   ]
  },
  {
   "cell_type": "code",
   "execution_count": 33,
   "id": "d8a5fed5-4226-4e70-847d-87b6cde084b5",
   "metadata": {},
   "outputs": [
    {
     "name": "stdout",
     "output_type": "stream",
     "text": [
      "[[1234289474479239168, 1234289531228237824, 1234289658445664257, 1234289759092191232, 1234290038965506048, 1234290058871689216, 1234290271774543872, 1234290756564783104, 1234290858742210566, 1234290953214664706], [1234291197553913857, 1234291376419934208, 1234291397202776065, 1234291544141766656, 1234291711913885696, 1234291870886440960, 1234291942663565312, 1234291999274098688, 1234292673260879872, 1234293293565063174], [1234293366331932673, 1234293410829414400, 1234293414767792129, 1234293516542578688, 1234293534498414592, 1234293614282448901, 1234293623417602048, 1234293652706484224, 1234293656577806337, 1234294028499324928], [1234294077564375040, 1234294349699129344, 1234294495950315526, 1234294523712372742, 1234294610421260288, 1234294692193325056, 1234294853330182144, 1234295307258613760, 1234295494735749120, 1234296127312166912], [1234296203426385922, 1234296367322947584, 1234297018010333184, 1234297342939017217, 1234297723282763777, 1234297786302115840, 1234299071189463042, 1234299414153506817, 1234299601345302529, 1234299735881715714], [1234299954908155904, 1234300805752250369, 1234300809166426112, 1234300812165361664, 1234300815952707584, 1234301090163838976, 1234301269755531266, 1234301582705135616, 1234301703647875078, 1234301784237064192], [1234301837743984642, 1234302060960587779, 1234302104061255681, 1234303867048861701, 1234304011475406848, 1234304254413852672, 1234305116506861568, 1234305249738924035, 1234305921955901440, 1234306014268227584], [1234306203746000901, 1234306681246490624, 1234307204469141504, 1234307236320677888, 1234307652169224192, 1234307700189794304, 1234307704375726088, 1234307702521815043, 1234307846528856066, 1234308248234287104], [1234308731170623489, 1234308854311260160, 1234309664185163781, 1234310055023071232, 1234310189404348417, 1234310439233867777, 1234310717618171904, 1234310844848144384, 1234310918517010433, 1234311107478683654], [1234311224562679808, 1234311471657562112, 1234311854874296321, 1234311880342220801, 1234311903666556929, 1234312209414737920, 1234312478034714625, 1234312882466234373, 1234312887616884739, 1234312913822900224]]\n"
     ]
    }
   ],
   "source": [
    "tweet_IDs = data_df[\"tweet_ID\"].tolist()\n",
    "\n",
    "# Take the first 100 tweets\n",
    "tweet_IDs_test = tweet_IDs[:100]\n",
    "tweets_array = np.asarray(tweet_IDs_test)\n",
    "\n",
    "# Partition into 10 equally sized arrays\n",
    "split_array = np.array_split(tweets_array, 10)\n",
    "\n",
    "for i in range(len(split_array)):\n",
    "    split_array[i] = list(split_array[i])"
   ]
  },
  {
   "cell_type": "code",
   "execution_count": 58,
   "id": "934e3246",
   "metadata": {},
   "outputs": [
    {
     "data": {
      "application/vnd.jupyter.widget-view+json": {
       "model_id": "18477ee4343a4e9082ead0d8b4eeeab6",
       "version_major": 2,
       "version_minor": 0
      },
      "text/plain": [
       "HBox(children=(HTML(value=''), FloatProgress(value=0.0, max=60000.0), HTML(value='')))"
      ]
     },
     "metadata": {},
     "output_type": "display_data"
    },
    {
     "name": "stdout",
     "output_type": "stream",
     "text": [
      "\n",
      "60000\n",
      "100\n"
     ]
    }
   ],
   "source": [
    "tweets_array_final = np.asarray(tweet_IDs)\n",
    "split_array_final = np.array_split(tweets_array_final, 60000)\n",
    "\n",
    "for i in tqdm(range(len(split_array_final))):\n",
    "    split_array_final[i] = list(split_array_final[i])\n",
    "\n",
    "with open('list_tweet_ids.pkl', 'wb') as f:\n",
    "    pickle.dump(split_array_final, f)\n",
    "\n",
    "print(len(split_array_final))\n",
    "print(len(split_array_final[0]))"
   ]
  },
  {
   "cell_type": "code",
   "execution_count": 55,
   "id": "e7d1b78d",
   "metadata": {},
   "outputs": [
    {
     "data": {
      "application/vnd.jupyter.widget-view+json": {
       "model_id": "4260d513d10a45ba9ab341fe16cf526d",
       "version_major": 2,
       "version_minor": 0
      },
      "text/plain": [
       "HBox(children=(HTML(value=''), FloatProgress(value=0.0, max=10.0), HTML(value='')))"
      ]
     },
     "metadata": {},
     "output_type": "display_data"
    },
    {
     "data": {
      "application/vnd.jupyter.widget-view+json": {
       "model_id": "59f0bd7172e54e2b8146f00fd23a7a5d",
       "version_major": 2,
       "version_minor": 0
      },
      "text/plain": [
       "HBox(children=(HTML(value=''), FloatProgress(value=0.0, max=8.0), HTML(value='')))"
      ]
     },
     "metadata": {},
     "output_type": "display_data"
    },
    {
     "name": "stdout",
     "output_type": "stream",
     "text": [
      "\n"
     ]
    },
    {
     "data": {
      "application/vnd.jupyter.widget-view+json": {
       "model_id": "423d17435e094d5e9aed498de076d43d",
       "version_major": 2,
       "version_minor": 0
      },
      "text/plain": [
       "HBox(children=(HTML(value=''), FloatProgress(value=0.0, max=10.0), HTML(value='')))"
      ]
     },
     "metadata": {},
     "output_type": "display_data"
    },
    {
     "name": "stdout",
     "output_type": "stream",
     "text": [
      "\n"
     ]
    },
    {
     "data": {
      "application/vnd.jupyter.widget-view+json": {
       "model_id": "6177800349d34306abf97915a095ac50",
       "version_major": 2,
       "version_minor": 0
      },
      "text/plain": [
       "HBox(children=(HTML(value=''), FloatProgress(value=0.0, max=5.0), HTML(value='')))"
      ]
     },
     "metadata": {},
     "output_type": "display_data"
    },
    {
     "name": "stdout",
     "output_type": "stream",
     "text": [
      "\n"
     ]
    },
    {
     "data": {
      "application/vnd.jupyter.widget-view+json": {
       "model_id": "60ab3d5e97744d2e870e331e5a091acd",
       "version_major": 2,
       "version_minor": 0
      },
      "text/plain": [
       "HBox(children=(HTML(value=''), FloatProgress(value=0.0, max=8.0), HTML(value='')))"
      ]
     },
     "metadata": {},
     "output_type": "display_data"
    },
    {
     "name": "stdout",
     "output_type": "stream",
     "text": [
      "\n"
     ]
    },
    {
     "data": {
      "application/vnd.jupyter.widget-view+json": {
       "model_id": "448fa9573b0e470f9dd5abd048ff1e69",
       "version_major": 2,
       "version_minor": 0
      },
      "text/plain": [
       "HBox(children=(HTML(value=''), FloatProgress(value=0.0, max=6.0), HTML(value='')))"
      ]
     },
     "metadata": {},
     "output_type": "display_data"
    },
    {
     "name": "stdout",
     "output_type": "stream",
     "text": [
      "\n"
     ]
    },
    {
     "data": {
      "application/vnd.jupyter.widget-view+json": {
       "model_id": "28d73f350a494781999c0fecc22474a3",
       "version_major": 2,
       "version_minor": 0
      },
      "text/plain": [
       "HBox(children=(HTML(value=''), FloatProgress(value=0.0, max=8.0), HTML(value='')))"
      ]
     },
     "metadata": {},
     "output_type": "display_data"
    },
    {
     "name": "stdout",
     "output_type": "stream",
     "text": [
      "\n"
     ]
    },
    {
     "data": {
      "application/vnd.jupyter.widget-view+json": {
       "model_id": "31e4dbdb0e134a8cb00e4253e03a09bc",
       "version_major": 2,
       "version_minor": 0
      },
      "text/plain": [
       "HBox(children=(HTML(value=''), FloatProgress(value=0.0, max=6.0), HTML(value='')))"
      ]
     },
     "metadata": {},
     "output_type": "display_data"
    },
    {
     "name": "stdout",
     "output_type": "stream",
     "text": [
      "\n"
     ]
    },
    {
     "data": {
      "application/vnd.jupyter.widget-view+json": {
       "model_id": "f8e69573e4ae42c4be713156acc3fae9",
       "version_major": 2,
       "version_minor": 0
      },
      "text/plain": [
       "HBox(children=(HTML(value=''), FloatProgress(value=0.0, max=9.0), HTML(value='')))"
      ]
     },
     "metadata": {},
     "output_type": "display_data"
    },
    {
     "name": "stdout",
     "output_type": "stream",
     "text": [
      "\n"
     ]
    },
    {
     "data": {
      "application/vnd.jupyter.widget-view+json": {
       "model_id": "720dab24af604a35869e3974928a99eb",
       "version_major": 2,
       "version_minor": 0
      },
      "text/plain": [
       "HBox(children=(HTML(value=''), FloatProgress(value=0.0, max=9.0), HTML(value='')))"
      ]
     },
     "metadata": {},
     "output_type": "display_data"
    },
    {
     "name": "stdout",
     "output_type": "stream",
     "text": [
      "\n"
     ]
    },
    {
     "data": {
      "application/vnd.jupyter.widget-view+json": {
       "model_id": "8122975df82944cfb0943d6556e54859",
       "version_major": 2,
       "version_minor": 0
      },
      "text/plain": [
       "HBox(children=(HTML(value=''), FloatProgress(value=0.0, max=7.0), HTML(value='')))"
      ]
     },
     "metadata": {},
     "output_type": "display_data"
    },
    {
     "name": "stdout",
     "output_type": "stream",
     "text": [
      "\n",
      "\n",
      "CPU times: user 569 ms, sys: 65.3 ms, total: 635 ms\n",
      "Wall time: 3.73 s\n"
     ]
    }
   ],
   "source": [
    "%%time\n",
    "import pickle\n",
    "\n",
    "tweet_list = []\n",
    "error_list = []\n",
    "\n",
    "for i in tqdm(range(len(split_array))):\n",
    "    tweets, errors = get_tweets(split_array[i])\n",
    "    tweet_list.append(tweets)\n",
    "    error_list.append(errors)\n",
    "              \n",
    "with open('tweets.pkl', 'wb') as f:\n",
    "    pickle.dump(tweet_list, f)\n",
    "\n",
    "with open('errors.pkl', 'wb') as f:\n",
    "    pickle.dump(error_list, f)"
   ]
  }
 ],
 "metadata": {
  "kernelspec": {
   "display_name": "Python 3",
   "language": "python",
   "name": "python3"
  },
  "language_info": {
   "codemirror_mode": {
    "name": "ipython",
    "version": 3
   },
   "file_extension": ".py",
   "mimetype": "text/x-python",
   "name": "python",
   "nbconvert_exporter": "python",
   "pygments_lexer": "ipython3",
   "version": "3.8.5"
  }
 },
 "nbformat": 4,
 "nbformat_minor": 5
}

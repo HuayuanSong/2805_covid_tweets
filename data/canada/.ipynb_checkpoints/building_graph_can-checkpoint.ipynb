{
 "cells": [
  {
   "cell_type": "code",
   "execution_count": 1,
   "id": "ddd04792",
   "metadata": {},
   "outputs": [],
   "source": [
    "# Import dependancies\n",
    "import tweepy\n",
    "import re\n",
    "import requests\n",
    "import pandas as pd\n",
    "from tqdm.auto import tqdm\n",
    "import numpy as np\n",
    "import pickle\n",
    "import time\n",
    "import itertools\n",
    "import networkx as nx\n",
    "import matplotlib.pyplot as plt\n",
    "import nltk\n",
    "import ast\n",
    "import community\n",
    "from nltk.corpus import stopwords\n",
    "from nltk.tokenize import RegexpTokenizer\n",
    "from collections import Counter"
   ]
  },
  {
   "cell_type": "markdown",
   "id": "e95eb07c",
   "metadata": {},
   "source": [
    "The user_id column has to be read as a str:"
   ]
  },
  {
   "cell_type": "code",
   "execution_count": 3,
   "id": "7b6da010-71fe-478d-8e09-174050910cbc",
   "metadata": {},
   "outputs": [
    {
     "name": "stderr",
     "output_type": "stream",
     "text": [
      "/Users/huayuan/opt/anaconda3/lib/python3.8/site-packages/IPython/core/interactiveshell.py:3418: DtypeWarning: Columns (0) have mixed types.Specify dtype option on import or set low_memory=False.\n",
      "  exec(code_obj, self.user_global_ns, self.user_ns)\n"
     ]
    }
   ],
   "source": [
    "# Load data\n",
    "usernames_uk = pd.read_csv(\"data/canada/files/data_w_usernames_CAN.csv\",index_col=0, dtype={'user_id':str})"
   ]
  },
  {
   "cell_type": "code",
   "execution_count": 5,
   "id": "11c94984",
   "metadata": {},
   "outputs": [],
   "source": [
    "usernames_uk = usernames_uk.reset_index(drop = True)"
   ]
  },
  {
   "cell_type": "code",
   "execution_count": 6,
   "id": "c928494e",
   "metadata": {},
   "outputs": [],
   "source": [
    "mentions = pd.read_csv(\"data/canada/files/mentions.csv\", index_col = 0)\n",
    "mentions = mentions.reset_index(drop=True)"
   ]
  },
  {
   "cell_type": "markdown",
   "id": "39c51553",
   "metadata": {},
   "source": [
    "Merging the dataframe that contains only the twitter with at least one mention with the dataframe that contained the scraped usernames"
   ]
  },
  {
   "cell_type": "code",
   "execution_count": 7,
   "id": "556b9dc1",
   "metadata": {},
   "outputs": [],
   "source": [
    "mentions['username'] = pd.merge(mentions, usernames_uk, on = \"tweet_ID\").iloc[:, -1] "
   ]
  },
  {
   "cell_type": "code",
   "execution_count": 8,
   "id": "812e6263",
   "metadata": {},
   "outputs": [],
   "source": [
    "data_df = mentions"
   ]
  },
  {
   "cell_type": "code",
   "execution_count": 9,
   "id": "1d613317",
   "metadata": {},
   "outputs": [
    {
     "data": {
      "text/html": [
       "<div>\n",
       "<style scoped>\n",
       "    .dataframe tbody tr th:only-of-type {\n",
       "        vertical-align: middle;\n",
       "    }\n",
       "\n",
       "    .dataframe tbody tr th {\n",
       "        vertical-align: top;\n",
       "    }\n",
       "\n",
       "    .dataframe thead th {\n",
       "        text-align: right;\n",
       "    }\n",
       "</style>\n",
       "<table border=\"1\" class=\"dataframe\">\n",
       "  <thead>\n",
       "    <tr style=\"text-align: right;\">\n",
       "      <th></th>\n",
       "      <th>tweet_ID</th>\n",
       "      <th>user_id</th>\n",
       "      <th>keywords</th>\n",
       "      <th>tweet_timestamp</th>\n",
       "      <th>valence_intensity</th>\n",
       "      <th>fear_intensity</th>\n",
       "      <th>anger_intensity</th>\n",
       "      <th>happiness_intensity</th>\n",
       "      <th>sadness_intensity</th>\n",
       "      <th>sentiment</th>\n",
       "      <th>emotion</th>\n",
       "      <th>tweet</th>\n",
       "      <th>len_content</th>\n",
       "      <th>mentions</th>\n",
       "      <th>username</th>\n",
       "    </tr>\n",
       "  </thead>\n",
       "  <tbody>\n",
       "    <tr>\n",
       "      <th>0</th>\n",
       "      <td>1.221960e+18</td>\n",
       "      <td>13752142</td>\n",
       "      <td>wuhan</td>\n",
       "      <td>2020-01-28 00:55:15</td>\n",
       "      <td>0.409</td>\n",
       "      <td>0.468</td>\n",
       "      <td>0.530</td>\n",
       "      <td>0.255</td>\n",
       "      <td>0.462</td>\n",
       "      <td>-1.0</td>\n",
       "      <td>A</td>\n",
       "      <td>@maurerbot @JustinTrudeau There's already What...</td>\n",
       "      <td>28.0</td>\n",
       "      <td>['maurerbot', 'JustinTrudeau']</td>\n",
       "      <td>StMinaHamilton</td>\n",
       "    </tr>\n",
       "    <tr>\n",
       "      <th>1</th>\n",
       "      <td>1.221971e+18</td>\n",
       "      <td>1031691314536935424</td>\n",
       "      <td>wuhan</td>\n",
       "      <td>2020-01-28 01:38:26</td>\n",
       "      <td>0.501</td>\n",
       "      <td>0.473</td>\n",
       "      <td>0.366</td>\n",
       "      <td>0.294</td>\n",
       "      <td>0.367</td>\n",
       "      <td>0.0</td>\n",
       "      <td>NaN</td>\n",
       "      <td>\"Tracking coronavirus: Map, data and timeline\"...</td>\n",
       "      <td>16.0</td>\n",
       "      <td>['BNONews']</td>\n",
       "      <td>WalkinRobinL</td>\n",
       "    </tr>\n",
       "    <tr>\n",
       "      <th>2</th>\n",
       "      <td>1.221976e+18</td>\n",
       "      <td>31473811</td>\n",
       "      <td>wuhan</td>\n",
       "      <td>2020-01-28 01:57:58</td>\n",
       "      <td>0.451</td>\n",
       "      <td>0.453</td>\n",
       "      <td>0.435</td>\n",
       "      <td>0.336</td>\n",
       "      <td>0.451</td>\n",
       "      <td>-1.0</td>\n",
       "      <td>F</td>\n",
       "      <td>@AliEhsassi we have a Canadian baby and her mo...</td>\n",
       "      <td>34.0</td>\n",
       "      <td>['AliEhsassi']</td>\n",
       "      <td>WillWalkerley</td>\n",
       "    </tr>\n",
       "    <tr>\n",
       "      <th>3</th>\n",
       "      <td>1.221985e+18</td>\n",
       "      <td>1072771</td>\n",
       "      <td>wuhan</td>\n",
       "      <td>2020-01-28 02:36:25</td>\n",
       "      <td>0.436</td>\n",
       "      <td>0.526</td>\n",
       "      <td>0.415</td>\n",
       "      <td>0.232</td>\n",
       "      <td>0.379</td>\n",
       "      <td>-1.0</td>\n",
       "      <td>F</td>\n",
       "      <td>3 are currently under observation in Quebec fo...</td>\n",
       "      <td>38.0</td>\n",
       "      <td>['GoogleNews']</td>\n",
       "      <td>Road_Buster84</td>\n",
       "    </tr>\n",
       "    <tr>\n",
       "      <th>4</th>\n",
       "      <td>1.221990e+18</td>\n",
       "      <td>401098282</td>\n",
       "      <td>wuhan</td>\n",
       "      <td>2020-01-28 02:53:08</td>\n",
       "      <td>0.501</td>\n",
       "      <td>0.436</td>\n",
       "      <td>0.473</td>\n",
       "      <td>0.351</td>\n",
       "      <td>0.365</td>\n",
       "      <td>0.0</td>\n",
       "      <td>NaN</td>\n",
       "      <td>@Franktmcveety Is this the official site for h...</td>\n",
       "      <td>40.0</td>\n",
       "      <td>['Franktmcveety']</td>\n",
       "      <td>burlingtonlaw</td>\n",
       "    </tr>\n",
       "    <tr>\n",
       "      <th>...</th>\n",
       "      <td>...</td>\n",
       "      <td>...</td>\n",
       "      <td>...</td>\n",
       "      <td>...</td>\n",
       "      <td>...</td>\n",
       "      <td>...</td>\n",
       "      <td>...</td>\n",
       "      <td>...</td>\n",
       "      <td>...</td>\n",
       "      <td>...</td>\n",
       "      <td>...</td>\n",
       "      <td>...</td>\n",
       "      <td>...</td>\n",
       "      <td>...</td>\n",
       "      <td>...</td>\n",
       "    </tr>\n",
       "    <tr>\n",
       "      <th>229913</th>\n",
       "      <td>1.285832e+18</td>\n",
       "      <td>71669770</td>\n",
       "      <td>covid</td>\n",
       "      <td>2020-07-22 06:59:12</td>\n",
       "      <td>0.468</td>\n",
       "      <td>0.434</td>\n",
       "      <td>0.408</td>\n",
       "      <td>0.325</td>\n",
       "      <td>0.365</td>\n",
       "      <td>-1.0</td>\n",
       "      <td>F</td>\n",
       "      <td>@Maefrombackeast It saves a lot of time. Plus,...</td>\n",
       "      <td>45.0</td>\n",
       "      <td>['Maefrombackeast']</td>\n",
       "      <td>NaN</td>\n",
       "    </tr>\n",
       "    <tr>\n",
       "      <th>229914</th>\n",
       "      <td>1.285832e+18</td>\n",
       "      <td>790757502040305664</td>\n",
       "      <td>covid</td>\n",
       "      <td>2020-07-22 06:59:23</td>\n",
       "      <td>0.603</td>\n",
       "      <td>0.347</td>\n",
       "      <td>0.402</td>\n",
       "      <td>0.487</td>\n",
       "      <td>0.299</td>\n",
       "      <td>1.0</td>\n",
       "      <td>H</td>\n",
       "      <td>@SamTalksTesla @elonmusk This Guy my Sam Frien...</td>\n",
       "      <td>37.0</td>\n",
       "      <td>['SamTalksTesla', 'elonmusk']</td>\n",
       "      <td>NaN</td>\n",
       "    </tr>\n",
       "    <tr>\n",
       "      <th>229915</th>\n",
       "      <td>1.285835e+18</td>\n",
       "      <td>2554092884</td>\n",
       "      <td>covid</td>\n",
       "      <td>2020-07-22 07:10:30</td>\n",
       "      <td>0.516</td>\n",
       "      <td>0.350</td>\n",
       "      <td>0.384</td>\n",
       "      <td>0.337</td>\n",
       "      <td>0.365</td>\n",
       "      <td>0.0</td>\n",
       "      <td>NaN</td>\n",
       "      <td>@gabe_prewitt @TheMeadowlands @eedoogie @Jessi...</td>\n",
       "      <td>36.0</td>\n",
       "      <td>['gabe_prewitt', 'TheMeadowlands', 'eedoogie',...</td>\n",
       "      <td>NaN</td>\n",
       "    </tr>\n",
       "    <tr>\n",
       "      <th>229916</th>\n",
       "      <td>1.285836e+18</td>\n",
       "      <td>1497174692</td>\n",
       "      <td>covid</td>\n",
       "      <td>2020-07-22 07:15:29</td>\n",
       "      <td>0.330</td>\n",
       "      <td>0.604</td>\n",
       "      <td>0.529</td>\n",
       "      <td>0.157</td>\n",
       "      <td>0.545</td>\n",
       "      <td>-1.0</td>\n",
       "      <td>F</td>\n",
       "      <td>@660NEWS People are still getting sick. The vi...</td>\n",
       "      <td>54.0</td>\n",
       "      <td>['660NEWS']</td>\n",
       "      <td>NaN</td>\n",
       "    </tr>\n",
       "    <tr>\n",
       "      <th>229917</th>\n",
       "      <td>1.285836e+18</td>\n",
       "      <td>1044971320998588417</td>\n",
       "      <td>covid</td>\n",
       "      <td>2020-07-22 07:16:52</td>\n",
       "      <td>0.478</td>\n",
       "      <td>0.441</td>\n",
       "      <td>0.447</td>\n",
       "      <td>0.280</td>\n",
       "      <td>0.424</td>\n",
       "      <td>-1.0</td>\n",
       "      <td>A</td>\n",
       "      <td>COVID-19 caused the greatest damage to the glo...</td>\n",
       "      <td>31.0</td>\n",
       "      <td>['WorldBank']</td>\n",
       "      <td>NaN</td>\n",
       "    </tr>\n",
       "  </tbody>\n",
       "</table>\n",
       "<p>229918 rows × 15 columns</p>\n",
       "</div>"
      ],
      "text/plain": [
       "            tweet_ID              user_id keywords      tweet_timestamp  \\\n",
       "0       1.221960e+18             13752142    wuhan  2020-01-28 00:55:15   \n",
       "1       1.221971e+18  1031691314536935424    wuhan  2020-01-28 01:38:26   \n",
       "2       1.221976e+18             31473811    wuhan  2020-01-28 01:57:58   \n",
       "3       1.221985e+18              1072771    wuhan  2020-01-28 02:36:25   \n",
       "4       1.221990e+18            401098282    wuhan  2020-01-28 02:53:08   \n",
       "...              ...                  ...      ...                  ...   \n",
       "229913  1.285832e+18             71669770    covid  2020-07-22 06:59:12   \n",
       "229914  1.285832e+18   790757502040305664    covid  2020-07-22 06:59:23   \n",
       "229915  1.285835e+18           2554092884    covid  2020-07-22 07:10:30   \n",
       "229916  1.285836e+18           1497174692    covid  2020-07-22 07:15:29   \n",
       "229917  1.285836e+18  1044971320998588417    covid  2020-07-22 07:16:52   \n",
       "\n",
       "        valence_intensity  fear_intensity  anger_intensity  \\\n",
       "0                   0.409           0.468            0.530   \n",
       "1                   0.501           0.473            0.366   \n",
       "2                   0.451           0.453            0.435   \n",
       "3                   0.436           0.526            0.415   \n",
       "4                   0.501           0.436            0.473   \n",
       "...                   ...             ...              ...   \n",
       "229913              0.468           0.434            0.408   \n",
       "229914              0.603           0.347            0.402   \n",
       "229915              0.516           0.350            0.384   \n",
       "229916              0.330           0.604            0.529   \n",
       "229917              0.478           0.441            0.447   \n",
       "\n",
       "        happiness_intensity  sadness_intensity  sentiment emotion  \\\n",
       "0                     0.255              0.462       -1.0       A   \n",
       "1                     0.294              0.367        0.0     NaN   \n",
       "2                     0.336              0.451       -1.0       F   \n",
       "3                     0.232              0.379       -1.0       F   \n",
       "4                     0.351              0.365        0.0     NaN   \n",
       "...                     ...                ...        ...     ...   \n",
       "229913                0.325              0.365       -1.0       F   \n",
       "229914                0.487              0.299        1.0       H   \n",
       "229915                0.337              0.365        0.0     NaN   \n",
       "229916                0.157              0.545       -1.0       F   \n",
       "229917                0.280              0.424       -1.0       A   \n",
       "\n",
       "                                                    tweet  len_content  \\\n",
       "0       @maurerbot @JustinTrudeau There's already What...         28.0   \n",
       "1       \"Tracking coronavirus: Map, data and timeline\"...         16.0   \n",
       "2       @AliEhsassi we have a Canadian baby and her mo...         34.0   \n",
       "3       3 are currently under observation in Quebec fo...         38.0   \n",
       "4       @Franktmcveety Is this the official site for h...         40.0   \n",
       "...                                                   ...          ...   \n",
       "229913  @Maefrombackeast It saves a lot of time. Plus,...         45.0   \n",
       "229914  @SamTalksTesla @elonmusk This Guy my Sam Frien...         37.0   \n",
       "229915  @gabe_prewitt @TheMeadowlands @eedoogie @Jessi...         36.0   \n",
       "229916  @660NEWS People are still getting sick. The vi...         54.0   \n",
       "229917  COVID-19 caused the greatest damage to the glo...         31.0   \n",
       "\n",
       "                                                 mentions        username  \n",
       "0                          ['maurerbot', 'JustinTrudeau']  StMinaHamilton  \n",
       "1                                             ['BNONews']    WalkinRobinL  \n",
       "2                                          ['AliEhsassi']   WillWalkerley  \n",
       "3                                          ['GoogleNews']   Road_Buster84  \n",
       "4                                       ['Franktmcveety']   burlingtonlaw  \n",
       "...                                                   ...             ...  \n",
       "229913                                ['Maefrombackeast']             NaN  \n",
       "229914                      ['SamTalksTesla', 'elonmusk']             NaN  \n",
       "229915  ['gabe_prewitt', 'TheMeadowlands', 'eedoogie',...             NaN  \n",
       "229916                                        ['660NEWS']             NaN  \n",
       "229917                                      ['WorldBank']             NaN  \n",
       "\n",
       "[229918 rows x 15 columns]"
      ]
     },
     "execution_count": 9,
     "metadata": {},
     "output_type": "execute_result"
    }
   ],
   "source": [
    "data_df"
   ]
  },
  {
   "cell_type": "markdown",
   "id": "f2450d1a",
   "metadata": {},
   "source": [
    "Removing the rows for which it was not possible to retrieve the usernames:"
   ]
  },
  {
   "cell_type": "code",
   "execution_count": 11,
   "id": "81eac05a",
   "metadata": {},
   "outputs": [],
   "source": [
    "data_df = data_df.dropna(subset=['username']).reset_index(drop=True)"
   ]
  },
  {
   "cell_type": "code",
   "execution_count": 12,
   "id": "607e054b",
   "metadata": {},
   "outputs": [
    {
     "data": {
      "text/html": [
       "<div>\n",
       "<style scoped>\n",
       "    .dataframe tbody tr th:only-of-type {\n",
       "        vertical-align: middle;\n",
       "    }\n",
       "\n",
       "    .dataframe tbody tr th {\n",
       "        vertical-align: top;\n",
       "    }\n",
       "\n",
       "    .dataframe thead th {\n",
       "        text-align: right;\n",
       "    }\n",
       "</style>\n",
       "<table border=\"1\" class=\"dataframe\">\n",
       "  <thead>\n",
       "    <tr style=\"text-align: right;\">\n",
       "      <th></th>\n",
       "      <th>tweet_ID</th>\n",
       "      <th>user_id</th>\n",
       "      <th>keywords</th>\n",
       "      <th>tweet_timestamp</th>\n",
       "      <th>valence_intensity</th>\n",
       "      <th>fear_intensity</th>\n",
       "      <th>anger_intensity</th>\n",
       "      <th>happiness_intensity</th>\n",
       "      <th>sadness_intensity</th>\n",
       "      <th>sentiment</th>\n",
       "      <th>emotion</th>\n",
       "      <th>tweet</th>\n",
       "      <th>len_content</th>\n",
       "      <th>mentions</th>\n",
       "      <th>username</th>\n",
       "    </tr>\n",
       "  </thead>\n",
       "  <tbody>\n",
       "    <tr>\n",
       "      <th>0</th>\n",
       "      <td>1.221960e+18</td>\n",
       "      <td>13752142</td>\n",
       "      <td>wuhan</td>\n",
       "      <td>2020-01-28 00:55:15</td>\n",
       "      <td>0.409</td>\n",
       "      <td>0.468</td>\n",
       "      <td>0.530</td>\n",
       "      <td>0.255</td>\n",
       "      <td>0.462</td>\n",
       "      <td>-1.0</td>\n",
       "      <td>A</td>\n",
       "      <td>@maurerbot @JustinTrudeau There's already What...</td>\n",
       "      <td>28.0</td>\n",
       "      <td>['maurerbot', 'JustinTrudeau']</td>\n",
       "      <td>StMinaHamilton</td>\n",
       "    </tr>\n",
       "    <tr>\n",
       "      <th>1</th>\n",
       "      <td>1.221971e+18</td>\n",
       "      <td>1031691314536935424</td>\n",
       "      <td>wuhan</td>\n",
       "      <td>2020-01-28 01:38:26</td>\n",
       "      <td>0.501</td>\n",
       "      <td>0.473</td>\n",
       "      <td>0.366</td>\n",
       "      <td>0.294</td>\n",
       "      <td>0.367</td>\n",
       "      <td>0.0</td>\n",
       "      <td>NaN</td>\n",
       "      <td>\"Tracking coronavirus: Map, data and timeline\"...</td>\n",
       "      <td>16.0</td>\n",
       "      <td>['BNONews']</td>\n",
       "      <td>WalkinRobinL</td>\n",
       "    </tr>\n",
       "    <tr>\n",
       "      <th>2</th>\n",
       "      <td>1.221976e+18</td>\n",
       "      <td>31473811</td>\n",
       "      <td>wuhan</td>\n",
       "      <td>2020-01-28 01:57:58</td>\n",
       "      <td>0.451</td>\n",
       "      <td>0.453</td>\n",
       "      <td>0.435</td>\n",
       "      <td>0.336</td>\n",
       "      <td>0.451</td>\n",
       "      <td>-1.0</td>\n",
       "      <td>F</td>\n",
       "      <td>@AliEhsassi we have a Canadian baby and her mo...</td>\n",
       "      <td>34.0</td>\n",
       "      <td>['AliEhsassi']</td>\n",
       "      <td>WillWalkerley</td>\n",
       "    </tr>\n",
       "    <tr>\n",
       "      <th>3</th>\n",
       "      <td>1.221985e+18</td>\n",
       "      <td>1072771</td>\n",
       "      <td>wuhan</td>\n",
       "      <td>2020-01-28 02:36:25</td>\n",
       "      <td>0.436</td>\n",
       "      <td>0.526</td>\n",
       "      <td>0.415</td>\n",
       "      <td>0.232</td>\n",
       "      <td>0.379</td>\n",
       "      <td>-1.0</td>\n",
       "      <td>F</td>\n",
       "      <td>3 are currently under observation in Quebec fo...</td>\n",
       "      <td>38.0</td>\n",
       "      <td>['GoogleNews']</td>\n",
       "      <td>Road_Buster84</td>\n",
       "    </tr>\n",
       "    <tr>\n",
       "      <th>4</th>\n",
       "      <td>1.221990e+18</td>\n",
       "      <td>401098282</td>\n",
       "      <td>wuhan</td>\n",
       "      <td>2020-01-28 02:53:08</td>\n",
       "      <td>0.501</td>\n",
       "      <td>0.436</td>\n",
       "      <td>0.473</td>\n",
       "      <td>0.351</td>\n",
       "      <td>0.365</td>\n",
       "      <td>0.0</td>\n",
       "      <td>NaN</td>\n",
       "      <td>@Franktmcveety Is this the official site for h...</td>\n",
       "      <td>40.0</td>\n",
       "      <td>['Franktmcveety']</td>\n",
       "      <td>burlingtonlaw</td>\n",
       "    </tr>\n",
       "    <tr>\n",
       "      <th>...</th>\n",
       "      <td>...</td>\n",
       "      <td>...</td>\n",
       "      <td>...</td>\n",
       "      <td>...</td>\n",
       "      <td>...</td>\n",
       "      <td>...</td>\n",
       "      <td>...</td>\n",
       "      <td>...</td>\n",
       "      <td>...</td>\n",
       "      <td>...</td>\n",
       "      <td>...</td>\n",
       "      <td>...</td>\n",
       "      <td>...</td>\n",
       "      <td>...</td>\n",
       "      <td>...</td>\n",
       "    </tr>\n",
       "    <tr>\n",
       "      <th>229545</th>\n",
       "      <td>1.285773e+18</td>\n",
       "      <td>2876869331</td>\n",
       "      <td>covid</td>\n",
       "      <td>2020-07-22 03:07:43</td>\n",
       "      <td>0.504</td>\n",
       "      <td>0.379</td>\n",
       "      <td>0.431</td>\n",
       "      <td>0.378</td>\n",
       "      <td>0.372</td>\n",
       "      <td>0.0</td>\n",
       "      <td>NaN</td>\n",
       "      <td>@AmberWe55604849 @DanielScott128 @prf5 @alb309...</td>\n",
       "      <td>21.0</td>\n",
       "      <td>['AmberWe55604849', 'DanielScott128', 'prf5', ...</td>\n",
       "      <td>VANTEC_Networks</td>\n",
       "    </tr>\n",
       "    <tr>\n",
       "      <th>229546</th>\n",
       "      <td>1.285774e+18</td>\n",
       "      <td>1701955734</td>\n",
       "      <td>covid</td>\n",
       "      <td>2020-07-22 03:08:18</td>\n",
       "      <td>0.386</td>\n",
       "      <td>0.401</td>\n",
       "      <td>0.572</td>\n",
       "      <td>0.282</td>\n",
       "      <td>0.428</td>\n",
       "      <td>-1.0</td>\n",
       "      <td>A</td>\n",
       "      <td>@marklewismd My mom who is on chemo doesn't do...</td>\n",
       "      <td>37.0</td>\n",
       "      <td>['marklewismd']</td>\n",
       "      <td>lgc1920</td>\n",
       "    </tr>\n",
       "    <tr>\n",
       "      <th>229547</th>\n",
       "      <td>1.285774e+18</td>\n",
       "      <td>16485651</td>\n",
       "      <td>covid</td>\n",
       "      <td>2020-07-22 03:08:22</td>\n",
       "      <td>0.389</td>\n",
       "      <td>0.579</td>\n",
       "      <td>0.484</td>\n",
       "      <td>0.281</td>\n",
       "      <td>0.492</td>\n",
       "      <td>-1.0</td>\n",
       "      <td>F</td>\n",
       "      <td>@jmwensley @randyhillier I had 2 phone consult...</td>\n",
       "      <td>48.0</td>\n",
       "      <td>['jmwensley', 'randyhillier']</td>\n",
       "      <td>RQHRVolunteer</td>\n",
       "    </tr>\n",
       "    <tr>\n",
       "      <th>229548</th>\n",
       "      <td>1.285774e+18</td>\n",
       "      <td>954879392</td>\n",
       "      <td>covid</td>\n",
       "      <td>2020-07-22 03:10:27</td>\n",
       "      <td>0.668</td>\n",
       "      <td>0.335</td>\n",
       "      <td>0.319</td>\n",
       "      <td>0.501</td>\n",
       "      <td>0.326</td>\n",
       "      <td>1.0</td>\n",
       "      <td>H</td>\n",
       "      <td>The Pension War Room™️ remember quote about po...</td>\n",
       "      <td>23.0</td>\n",
       "      <td>['jkenney']</td>\n",
       "      <td>downtownalice</td>\n",
       "    </tr>\n",
       "    <tr>\n",
       "      <th>229549</th>\n",
       "      <td>1.285774e+18</td>\n",
       "      <td>3364963960</td>\n",
       "      <td>covid</td>\n",
       "      <td>2020-07-22 03:11:19</td>\n",
       "      <td>0.394</td>\n",
       "      <td>0.513</td>\n",
       "      <td>0.508</td>\n",
       "      <td>0.218</td>\n",
       "      <td>0.508</td>\n",
       "      <td>-1.0</td>\n",
       "      <td>F</td>\n",
       "      <td>@TylaYaweh @DaBaby Aye wouldn’t hurt since me ...</td>\n",
       "      <td>27.0</td>\n",
       "      <td>['TylaYaweh', 'DaBaby']</td>\n",
       "      <td>Syncwithmoi</td>\n",
       "    </tr>\n",
       "  </tbody>\n",
       "</table>\n",
       "<p>229550 rows × 15 columns</p>\n",
       "</div>"
      ],
      "text/plain": [
       "            tweet_ID              user_id keywords      tweet_timestamp  \\\n",
       "0       1.221960e+18             13752142    wuhan  2020-01-28 00:55:15   \n",
       "1       1.221971e+18  1031691314536935424    wuhan  2020-01-28 01:38:26   \n",
       "2       1.221976e+18             31473811    wuhan  2020-01-28 01:57:58   \n",
       "3       1.221985e+18              1072771    wuhan  2020-01-28 02:36:25   \n",
       "4       1.221990e+18            401098282    wuhan  2020-01-28 02:53:08   \n",
       "...              ...                  ...      ...                  ...   \n",
       "229545  1.285773e+18           2876869331    covid  2020-07-22 03:07:43   \n",
       "229546  1.285774e+18           1701955734    covid  2020-07-22 03:08:18   \n",
       "229547  1.285774e+18             16485651    covid  2020-07-22 03:08:22   \n",
       "229548  1.285774e+18            954879392    covid  2020-07-22 03:10:27   \n",
       "229549  1.285774e+18           3364963960    covid  2020-07-22 03:11:19   \n",
       "\n",
       "        valence_intensity  fear_intensity  anger_intensity  \\\n",
       "0                   0.409           0.468            0.530   \n",
       "1                   0.501           0.473            0.366   \n",
       "2                   0.451           0.453            0.435   \n",
       "3                   0.436           0.526            0.415   \n",
       "4                   0.501           0.436            0.473   \n",
       "...                   ...             ...              ...   \n",
       "229545              0.504           0.379            0.431   \n",
       "229546              0.386           0.401            0.572   \n",
       "229547              0.389           0.579            0.484   \n",
       "229548              0.668           0.335            0.319   \n",
       "229549              0.394           0.513            0.508   \n",
       "\n",
       "        happiness_intensity  sadness_intensity  sentiment emotion  \\\n",
       "0                     0.255              0.462       -1.0       A   \n",
       "1                     0.294              0.367        0.0     NaN   \n",
       "2                     0.336              0.451       -1.0       F   \n",
       "3                     0.232              0.379       -1.0       F   \n",
       "4                     0.351              0.365        0.0     NaN   \n",
       "...                     ...                ...        ...     ...   \n",
       "229545                0.378              0.372        0.0     NaN   \n",
       "229546                0.282              0.428       -1.0       A   \n",
       "229547                0.281              0.492       -1.0       F   \n",
       "229548                0.501              0.326        1.0       H   \n",
       "229549                0.218              0.508       -1.0       F   \n",
       "\n",
       "                                                    tweet  len_content  \\\n",
       "0       @maurerbot @JustinTrudeau There's already What...         28.0   \n",
       "1       \"Tracking coronavirus: Map, data and timeline\"...         16.0   \n",
       "2       @AliEhsassi we have a Canadian baby and her mo...         34.0   \n",
       "3       3 are currently under observation in Quebec fo...         38.0   \n",
       "4       @Franktmcveety Is this the official site for h...         40.0   \n",
       "...                                                   ...          ...   \n",
       "229545  @AmberWe55604849 @DanielScott128 @prf5 @alb309...         21.0   \n",
       "229546  @marklewismd My mom who is on chemo doesn't do...         37.0   \n",
       "229547  @jmwensley @randyhillier I had 2 phone consult...         48.0   \n",
       "229548  The Pension War Room™️ remember quote about po...         23.0   \n",
       "229549  @TylaYaweh @DaBaby Aye wouldn’t hurt since me ...         27.0   \n",
       "\n",
       "                                                 mentions         username  \n",
       "0                          ['maurerbot', 'JustinTrudeau']   StMinaHamilton  \n",
       "1                                             ['BNONews']     WalkinRobinL  \n",
       "2                                          ['AliEhsassi']    WillWalkerley  \n",
       "3                                          ['GoogleNews']    Road_Buster84  \n",
       "4                                       ['Franktmcveety']    burlingtonlaw  \n",
       "...                                                   ...              ...  \n",
       "229545  ['AmberWe55604849', 'DanielScott128', 'prf5', ...  VANTEC_Networks  \n",
       "229546                                    ['marklewismd']          lgc1920  \n",
       "229547                      ['jmwensley', 'randyhillier']    RQHRVolunteer  \n",
       "229548                                        ['jkenney']    downtownalice  \n",
       "229549                            ['TylaYaweh', 'DaBaby']      Syncwithmoi  \n",
       "\n",
       "[229550 rows x 15 columns]"
      ]
     },
     "execution_count": 12,
     "metadata": {},
     "output_type": "execute_result"
    }
   ],
   "source": [
    "data_df"
   ]
  },
  {
   "cell_type": "markdown",
   "id": "c7281fe3",
   "metadata": {},
   "source": [
    "To read each list in the column 'mentions' as a list and not as a str:"
   ]
  },
  {
   "cell_type": "code",
   "execution_count": 13,
   "id": "1491e3d5",
   "metadata": {},
   "outputs": [],
   "source": [
    "data_df['mentions'] = data_df['mentions'].apply(ast.literal_eval)"
   ]
  },
  {
   "cell_type": "markdown",
   "id": "9b00ce17",
   "metadata": {},
   "source": [
    "# Network"
   ]
  },
  {
   "cell_type": "code",
   "execution_count": 14,
   "id": "cbe120d8",
   "metadata": {},
   "outputs": [],
   "source": [
    "dict_edges = dict(zip(data_df['username'], data_df['mentions']))"
   ]
  },
  {
   "cell_type": "code",
   "execution_count": 15,
   "id": "1d13db72",
   "metadata": {},
   "outputs": [],
   "source": [
    "g = nx.DiGraph(dict_edges)"
   ]
  },
  {
   "cell_type": "code",
   "execution_count": 16,
   "id": "5dfde195",
   "metadata": {},
   "outputs": [
    {
     "data": {
      "text/plain": [
       "143538"
      ]
     },
     "execution_count": 16,
     "metadata": {},
     "output_type": "execute_result"
    }
   ],
   "source": [
    "len(g.edges)"
   ]
  },
  {
   "cell_type": "code",
   "execution_count": 17,
   "id": "ad864477",
   "metadata": {},
   "outputs": [
    {
     "data": {
      "text/plain": [
       "144510"
      ]
     },
     "execution_count": 17,
     "metadata": {},
     "output_type": "execute_result"
    }
   ],
   "source": [
    "len(g.nodes)"
   ]
  },
  {
   "cell_type": "code",
   "execution_count": 18,
   "id": "81737be5",
   "metadata": {},
   "outputs": [],
   "source": [
    "in_degree_tuples = g.in_degree(g.nodes())\n",
    "in_degree = [x[1] for x in in_degree_tuples] "
   ]
  },
  {
   "cell_type": "code",
   "execution_count": 19,
   "id": "490357f3",
   "metadata": {},
   "outputs": [],
   "source": [
    "out_degree_tuples = g.out_degree(g.nodes())\n",
    "out_degree = [x[1] for x in out_degree_tuples] "
   ]
  },
  {
   "cell_type": "code",
   "execution_count": 38,
   "id": "ab9dd3af",
   "metadata": {},
   "outputs": [
    {
     "name": "stdout",
     "output_type": "stream",
     "text": [
      "In degree\tmax: 2819\tmin: 0\n",
      "Out degree\tmax: 21\tmin: 0\n",
      "Nodes with in-degree larger than 100: 63\n"
     ]
    }
   ],
   "source": [
    "print('In degree\\tmax: {}\\tmin: {}'.format(max(in_degree),min(in_degree)))\n",
    "print('Out degree\\tmax: {}\\tmin: {}'.format(max(out_degree),min(out_degree)))\n",
    "print('Nodes with in-degree larger than 100: {}'.format(len([i for i in in_degree if i >100])))"
   ]
  },
  {
   "cell_type": "markdown",
   "id": "b3dd36be",
   "metadata": {},
   "source": [
    "Comparison of in-degree and out-degree distributions. The in-degree distribution has been zoomed to make it clear that for most of the users the in-degree is similar to the out degree except for some outliers that have very large in-degree because probably they are famous accounts such as news account or popular people (politicians or influencers) or famous organizations."
   ]
  },
  {
   "cell_type": "code",
   "execution_count": 41,
   "id": "e303a53a",
   "metadata": {},
   "outputs": [
    {
     "data": {
      "image/png": "[encoded data removed]",
      "text/plain": [
       "<Figure size 432x288 with 1 Axes>"
      ]
     },
     "metadata": {
      "needs_background": "light"
     },
     "output_type": "display_data"
    },
    {
     "data": {
      "image/png": "[encoded data removed]",
      "text/plain": [
       "<Figure size 432x288 with 1 Axes>"
      ]
     },
     "metadata": {
      "needs_background": "light"
     },
     "output_type": "display_data"
    }
   ],
   "source": [
    "plt.title(\"In-degree distribution for CAN\",pad = 20.0)\n",
    "plt.hist(in_degree, bins = np.arange(np.min(in_degree), np.max(in_degree)+2))\n",
    "plt.ylabel(\"Count\")\n",
    "plt.xlabel(\"Degree\")\n",
    "plt.yscale('log')\n",
    "plt.show()\n",
    "\n",
    "plt.title(\"Out-degree distribution for CAN\",pad = 20.0)\n",
    "plt.hist(out_degree, bins = np.arange(np.min(out_degree), np.max(out_degree)+2))\n",
    "plt.ylabel(\"Count\")\n",
    "plt.xlabel(\"Degree\")\n",
    "plt.show()\n"
   ]
  },
  {
   "cell_type": "code",
   "execution_count": null,
   "id": "c2d5cae7",
   "metadata": {},
   "outputs": [],
   "source": []
  },
  {
   "cell_type": "markdown",
   "id": "83850c68",
   "metadata": {},
   "source": [
    "In-degree distribution plotted using a log scale for the y axis:"
   ]
  },
  {
   "cell_type": "code",
   "execution_count": 21,
   "id": "51251508",
   "metadata": {},
   "outputs": [
    {
     "data": {
      "image/png": "[encoded data removed]",
      "text/plain": [
       "<Figure size 432x288 with 1 Axes>"
      ]
     },
     "metadata": {
      "needs_background": "light"
     },
     "output_type": "display_data"
    }
   ],
   "source": [
    "plt.hist(in_degree, bins = np.arange(np.min(in_degree), np.max(in_degree)+2))\n",
    "plt.yscale('log')\n",
    "plt.show()"
   ]
  },
  {
   "cell_type": "code",
   "execution_count": 22,
   "id": "5f05f41d",
   "metadata": {},
   "outputs": [
    {
     "name": "stdout",
     "output_type": "stream",
     "text": [
      "Top most in-degree connected users: , ['realDonaldTrump', 'JustinTrudeau', 'YouTube', 'fordnation', 'CBCNews', 'globeandmail', 'CTVNews', 'torontostar', 'nationalpost', 'jkenney', 'TorontoStar', 'CP24', 'CNN', 'WHO', 'globalnews', 'CdnChange', 'CPHO_Canada', 'JohnTory', 'celliottability', 'CMOH_Alberta']\n",
      "Top most out-degree connected users: , ['elizstiel', 'brandonkania', 'OttawaLionsTFC', 'EVENTSEMS', '_JeanLebel', 'SonuChotiB', 'AndrewStoeten', 'KMDLLP', 'pentictonman', 'scottjbaker']\n"
     ]
    }
   ],
   "source": [
    "dict_in_degree = dict(g.in_degree(g.nodes))\n",
    "print(\"Top most in-degree connected users: ,\", sorted(dict_in_degree, key=dict_in_degree.get, reverse=True)[:20])\n",
    "dict_out_degree = dict(g.out_degree(g.nodes))\n",
    "print(\"Top most out-degree connected users: ,\", sorted(dict_out_degree, key=dict_out_degree.get, reverse=True)[:10])"
   ]
  },
  {
   "cell_type": "markdown",
   "id": "e5242546",
   "metadata": {},
   "source": [
    "# Tweets analysis"
   ]
  },
  {
   "cell_type": "markdown",
   "id": "4afecb56",
   "metadata": {},
   "source": [
    "Tokenize the tweets:"
   ]
  },
  {
   "cell_type": "code",
   "execution_count": 96,
   "id": "53077b19",
   "metadata": {},
   "outputs": [],
   "source": [
    "stop_words = set(stopwords.words('english'))\n",
    "tokenizer = RegexpTokenizer(r'\\w+') \n",
    "\n",
    "def tokenize_tweet(tweet):\n",
    "    \n",
    "    word_tokens = tokenizer.tokenize(tweet)\n",
    "    filtered_sentence = [w.lower() for w in word_tokens if not w.lower() in stop_words]\n",
    "    return filtered_sentence\n"
   ]
  },
  {
   "cell_type": "code",
   "execution_count": 97,
   "id": "04cf3b0d",
   "metadata": {},
   "outputs": [],
   "source": [
    "data_df['tokens'] = data_df['tweet'].apply(tokenize_tweet)\n"
   ]
  },
  {
   "cell_type": "code",
   "execution_count": 100,
   "id": "59deac41",
   "metadata": {},
   "outputs": [],
   "source": [
    "data_df['word_count'] = data_df['tokens'].apply((Counter))"
   ]
  },
  {
   "cell_type": "code",
   "execution_count": 101,
   "id": "f1dbde9b",
   "metadata": {},
   "outputs": [],
   "source": [
    "data_df['tweet_timestamp'] = pd.to_datetime(data_df['tweet_timestamp'], format='%Y-%m-%d %H:%M:%S')"
   ]
  },
  {
   "cell_type": "code",
   "execution_count": 104,
   "id": "3bb31876",
   "metadata": {},
   "outputs": [
    {
     "ename": "KeyboardInterrupt",
     "evalue": "",
     "output_type": "error",
     "traceback": [
      "\u001b[1;31m---------------------------------------------------------------------------\u001b[0m",
      "\u001b[1;31mKeyboardInterrupt\u001b[0m                         Traceback (most recent call last)",
      "Input \u001b[1;32mIn [104]\u001b[0m, in \u001b[0;36m<cell line: 4>\u001b[1;34m()\u001b[0m\n\u001b[0;32m      1\u001b[0m \u001b[38;5;28;01mdef\u001b[39;00m \u001b[38;5;21mmerge_dicts\u001b[39m(x):\n\u001b[0;32m      2\u001b[0m     \u001b[38;5;28;01mreturn\u001b[39;00m {k: v \u001b[38;5;28;01mfor\u001b[39;00m d \u001b[38;5;129;01min\u001b[39;00m x\u001b[38;5;241m.\u001b[39mdropna() \u001b[38;5;28;01mfor\u001b[39;00m k, v \u001b[38;5;129;01min\u001b[39;00m d\u001b[38;5;241m.\u001b[39mitems()}\n\u001b[1;32m----> 4\u001b[0m word_count_weekly \u001b[38;5;241m=\u001b[39m \u001b[43mdata_df\u001b[49m\u001b[38;5;241;43m.\u001b[39;49m\u001b[43mgroupby\u001b[49m\u001b[43m(\u001b[49m\u001b[43mpd\u001b[49m\u001b[38;5;241;43m.\u001b[39;49m\u001b[43mGrouper\u001b[49m\u001b[43m(\u001b[49m\u001b[43mkey\u001b[49m\u001b[38;5;241;43m=\u001b[39;49m\u001b[38;5;124;43m'\u001b[39;49m\u001b[38;5;124;43mtweet_timestamp\u001b[39;49m\u001b[38;5;124;43m'\u001b[39;49m\u001b[43m,\u001b[49m\u001b[43m \u001b[49m\u001b[43maxis\u001b[49m\u001b[38;5;241;43m=\u001b[39;49m\u001b[38;5;241;43m0\u001b[39;49m\u001b[43m,\u001b[49m\u001b[43m \u001b[49m\u001b[43mfreq\u001b[49m\u001b[38;5;241;43m=\u001b[39;49m\u001b[38;5;124;43m'\u001b[39;49m\u001b[38;5;124;43m7D\u001b[39;49m\u001b[38;5;124;43m'\u001b[39;49m\u001b[43m,\u001b[49m\u001b[43m \u001b[49m\u001b[43msort\u001b[49m\u001b[38;5;241;43m=\u001b[39;49m\u001b[38;5;28;43;01mTrue\u001b[39;49;00m\u001b[43m)\u001b[49m\u001b[43m)\u001b[49m\u001b[43m[\u001b[49m\u001b[38;5;124;43m'\u001b[39;49m\u001b[38;5;124;43mword_count\u001b[39;49m\u001b[38;5;124;43m'\u001b[39;49m\u001b[43m]\u001b[49m\u001b[38;5;241;43m.\u001b[39;49m\u001b[43msum\u001b[49m\u001b[43m(\u001b[49m\u001b[43m)\u001b[49m\n",
      "File \u001b[1;32m~\\anaconda3\\lib\\site-packages\\pandas\\core\\groupby\\groupby.py:2198\u001b[0m, in \u001b[0;36mGroupBy.sum\u001b[1;34m(self, numeric_only, min_count, engine, engine_kwargs)\u001b[0m\n\u001b[0;32m   2194\u001b[0m \u001b[38;5;66;03m# If we are grouping on categoricals we want unobserved categories to\u001b[39;00m\n\u001b[0;32m   2195\u001b[0m \u001b[38;5;66;03m# return zero, rather than the default of NaN which the reindexing in\u001b[39;00m\n\u001b[0;32m   2196\u001b[0m \u001b[38;5;66;03m# _agg_general() returns. GH #31422\u001b[39;00m\n\u001b[0;32m   2197\u001b[0m \u001b[38;5;28;01mwith\u001b[39;00m com\u001b[38;5;241m.\u001b[39mtemp_setattr(\u001b[38;5;28mself\u001b[39m, \u001b[38;5;124m\"\u001b[39m\u001b[38;5;124mobserved\u001b[39m\u001b[38;5;124m\"\u001b[39m, \u001b[38;5;28;01mTrue\u001b[39;00m):\n\u001b[1;32m-> 2198\u001b[0m     result \u001b[38;5;241m=\u001b[39m \u001b[38;5;28;43mself\u001b[39;49m\u001b[38;5;241;43m.\u001b[39;49m\u001b[43m_agg_general\u001b[49m\u001b[43m(\u001b[49m\n\u001b[0;32m   2199\u001b[0m \u001b[43m        \u001b[49m\u001b[43mnumeric_only\u001b[49m\u001b[38;5;241;43m=\u001b[39;49m\u001b[43mnumeric_only\u001b[49m\u001b[43m,\u001b[49m\n\u001b[0;32m   2200\u001b[0m \u001b[43m        \u001b[49m\u001b[43mmin_count\u001b[49m\u001b[38;5;241;43m=\u001b[39;49m\u001b[43mmin_count\u001b[49m\u001b[43m,\u001b[49m\n\u001b[0;32m   2201\u001b[0m \u001b[43m        \u001b[49m\u001b[43malias\u001b[49m\u001b[38;5;241;43m=\u001b[39;49m\u001b[38;5;124;43m\"\u001b[39;49m\u001b[38;5;124;43madd\u001b[39;49m\u001b[38;5;124;43m\"\u001b[39;49m\u001b[43m,\u001b[49m\n\u001b[0;32m   2202\u001b[0m \u001b[43m        \u001b[49m\u001b[43mnpfunc\u001b[49m\u001b[38;5;241;43m=\u001b[39;49m\u001b[43mnp\u001b[49m\u001b[38;5;241;43m.\u001b[39;49m\u001b[43msum\u001b[49m\u001b[43m,\u001b[49m\n\u001b[0;32m   2203\u001b[0m \u001b[43m    \u001b[49m\u001b[43m)\u001b[49m\n\u001b[0;32m   2205\u001b[0m \u001b[38;5;28;01mreturn\u001b[39;00m \u001b[38;5;28mself\u001b[39m\u001b[38;5;241m.\u001b[39m_reindex_output(result, fill_value\u001b[38;5;241m=\u001b[39m\u001b[38;5;241m0\u001b[39m)\n",
      "File \u001b[1;32m~\\anaconda3\\lib\\site-packages\\pandas\\core\\groupby\\groupby.py:1515\u001b[0m, in \u001b[0;36mGroupBy._agg_general\u001b[1;34m(self, numeric_only, min_count, alias, npfunc)\u001b[0m\n\u001b[0;32m   1503\u001b[0m \u001b[38;5;129m@final\u001b[39m\n\u001b[0;32m   1504\u001b[0m \u001b[38;5;28;01mdef\u001b[39;00m \u001b[38;5;21m_agg_general\u001b[39m(\n\u001b[0;32m   1505\u001b[0m     \u001b[38;5;28mself\u001b[39m,\n\u001b[1;32m   (...)\u001b[0m\n\u001b[0;32m   1510\u001b[0m     npfunc: Callable,\n\u001b[0;32m   1511\u001b[0m ):\n\u001b[0;32m   1513\u001b[0m     \u001b[38;5;28;01mwith\u001b[39;00m \u001b[38;5;28mself\u001b[39m\u001b[38;5;241m.\u001b[39m_group_selection_context():\n\u001b[0;32m   1514\u001b[0m         \u001b[38;5;66;03m# try a cython aggregation if we can\u001b[39;00m\n\u001b[1;32m-> 1515\u001b[0m         result \u001b[38;5;241m=\u001b[39m \u001b[38;5;28;43mself\u001b[39;49m\u001b[38;5;241;43m.\u001b[39;49m\u001b[43m_cython_agg_general\u001b[49m\u001b[43m(\u001b[49m\n\u001b[0;32m   1516\u001b[0m \u001b[43m            \u001b[49m\u001b[43mhow\u001b[49m\u001b[38;5;241;43m=\u001b[39;49m\u001b[43malias\u001b[49m\u001b[43m,\u001b[49m\n\u001b[0;32m   1517\u001b[0m \u001b[43m            \u001b[49m\u001b[43malt\u001b[49m\u001b[38;5;241;43m=\u001b[39;49m\u001b[43mnpfunc\u001b[49m\u001b[43m,\u001b[49m\n\u001b[0;32m   1518\u001b[0m \u001b[43m            \u001b[49m\u001b[43mnumeric_only\u001b[49m\u001b[38;5;241;43m=\u001b[39;49m\u001b[43mnumeric_only\u001b[49m\u001b[43m,\u001b[49m\n\u001b[0;32m   1519\u001b[0m \u001b[43m            \u001b[49m\u001b[43mmin_count\u001b[49m\u001b[38;5;241;43m=\u001b[39;49m\u001b[43mmin_count\u001b[49m\u001b[43m,\u001b[49m\n\u001b[0;32m   1520\u001b[0m \u001b[43m        \u001b[49m\u001b[43m)\u001b[49m\n\u001b[0;32m   1521\u001b[0m         \u001b[38;5;28;01mreturn\u001b[39;00m result\u001b[38;5;241m.\u001b[39m__finalize__(\u001b[38;5;28mself\u001b[39m\u001b[38;5;241m.\u001b[39mobj, method\u001b[38;5;241m=\u001b[39m\u001b[38;5;124m\"\u001b[39m\u001b[38;5;124mgroupby\u001b[39m\u001b[38;5;124m\"\u001b[39m)\n",
      "File \u001b[1;32m~\\anaconda3\\lib\\site-packages\\pandas\\core\\groupby\\groupby.py:1601\u001b[0m, in \u001b[0;36mGroupBy._cython_agg_general\u001b[1;34m(self, how, alt, numeric_only, min_count)\u001b[0m\n\u001b[0;32m   1597\u001b[0m     \u001b[38;5;28;01mreturn\u001b[39;00m result\n\u001b[0;32m   1599\u001b[0m \u001b[38;5;66;03m# TypeError -> we may have an exception in trying to aggregate\u001b[39;00m\n\u001b[0;32m   1600\u001b[0m \u001b[38;5;66;03m#  continue and exclude the block\u001b[39;00m\n\u001b[1;32m-> 1601\u001b[0m new_mgr \u001b[38;5;241m=\u001b[39m \u001b[43mdata\u001b[49m\u001b[38;5;241;43m.\u001b[39;49m\u001b[43mgrouped_reduce\u001b[49m\u001b[43m(\u001b[49m\u001b[43marray_func\u001b[49m\u001b[43m,\u001b[49m\u001b[43m \u001b[49m\u001b[43mignore_failures\u001b[49m\u001b[38;5;241;43m=\u001b[39;49m\u001b[38;5;28;43;01mTrue\u001b[39;49;00m\u001b[43m)\u001b[49m\n\u001b[0;32m   1603\u001b[0m \u001b[38;5;28;01mif\u001b[39;00m \u001b[38;5;129;01mnot\u001b[39;00m is_ser \u001b[38;5;129;01mand\u001b[39;00m \u001b[38;5;28mlen\u001b[39m(new_mgr) \u001b[38;5;241m<\u001b[39m \u001b[38;5;28mlen\u001b[39m(data):\n\u001b[0;32m   1604\u001b[0m     warn_dropping_nuisance_columns_deprecated(\u001b[38;5;28mtype\u001b[39m(\u001b[38;5;28mself\u001b[39m), how)\n",
      "File \u001b[1;32m~\\anaconda3\\lib\\site-packages\\pandas\\core\\internals\\base.py:199\u001b[0m, in \u001b[0;36mSingleDataManager.grouped_reduce\u001b[1;34m(self, func, ignore_failures)\u001b[0m\n\u001b[0;32m    193\u001b[0m \u001b[38;5;124;03m\"\"\"\u001b[39;00m\n\u001b[0;32m    194\u001b[0m \u001b[38;5;124;03mignore_failures : bool, default False\u001b[39;00m\n\u001b[0;32m    195\u001b[0m \u001b[38;5;124;03m    Not used; for compatibility with ArrayManager/BlockManager.\u001b[39;00m\n\u001b[0;32m    196\u001b[0m \u001b[38;5;124;03m\"\"\"\u001b[39;00m\n\u001b[0;32m    198\u001b[0m arr \u001b[38;5;241m=\u001b[39m \u001b[38;5;28mself\u001b[39m\u001b[38;5;241m.\u001b[39marray\n\u001b[1;32m--> 199\u001b[0m res \u001b[38;5;241m=\u001b[39m \u001b[43mfunc\u001b[49m\u001b[43m(\u001b[49m\u001b[43marr\u001b[49m\u001b[43m)\u001b[49m\n\u001b[0;32m    200\u001b[0m index \u001b[38;5;241m=\u001b[39m default_index(\u001b[38;5;28mlen\u001b[39m(res))\n\u001b[0;32m    202\u001b[0m mgr \u001b[38;5;241m=\u001b[39m \u001b[38;5;28mtype\u001b[39m(\u001b[38;5;28mself\u001b[39m)\u001b[38;5;241m.\u001b[39mfrom_array(res, index)\n",
      "File \u001b[1;32m~\\anaconda3\\lib\\site-packages\\pandas\\core\\groupby\\groupby.py:1587\u001b[0m, in \u001b[0;36mGroupBy._cython_agg_general.<locals>.array_func\u001b[1;34m(values)\u001b[0m\n\u001b[0;32m   1585\u001b[0m \u001b[38;5;28;01mdef\u001b[39;00m \u001b[38;5;21marray_func\u001b[39m(values: ArrayLike) \u001b[38;5;241m-\u001b[39m\u001b[38;5;241m>\u001b[39m ArrayLike:\n\u001b[0;32m   1586\u001b[0m     \u001b[38;5;28;01mtry\u001b[39;00m:\n\u001b[1;32m-> 1587\u001b[0m         result \u001b[38;5;241m=\u001b[39m \u001b[38;5;28;43mself\u001b[39;49m\u001b[38;5;241;43m.\u001b[39;49m\u001b[43mgrouper\u001b[49m\u001b[38;5;241;43m.\u001b[39;49m\u001b[43m_cython_operation\u001b[49m\u001b[43m(\u001b[49m\n\u001b[0;32m   1588\u001b[0m \u001b[43m            \u001b[49m\u001b[38;5;124;43m\"\u001b[39;49m\u001b[38;5;124;43maggregate\u001b[39;49m\u001b[38;5;124;43m\"\u001b[39;49m\u001b[43m,\u001b[49m\u001b[43m \u001b[49m\u001b[43mvalues\u001b[49m\u001b[43m,\u001b[49m\u001b[43m \u001b[49m\u001b[43mhow\u001b[49m\u001b[43m,\u001b[49m\u001b[43m \u001b[49m\u001b[43maxis\u001b[49m\u001b[38;5;241;43m=\u001b[39;49m\u001b[43mdata\u001b[49m\u001b[38;5;241;43m.\u001b[39;49m\u001b[43mndim\u001b[49m\u001b[43m \u001b[49m\u001b[38;5;241;43m-\u001b[39;49m\u001b[43m \u001b[49m\u001b[38;5;241;43m1\u001b[39;49m\u001b[43m,\u001b[49m\u001b[43m \u001b[49m\u001b[43mmin_count\u001b[49m\u001b[38;5;241;43m=\u001b[39;49m\u001b[43mmin_count\u001b[49m\n\u001b[0;32m   1589\u001b[0m \u001b[43m        \u001b[49m\u001b[43m)\u001b[49m\n\u001b[0;32m   1590\u001b[0m     \u001b[38;5;28;01mexcept\u001b[39;00m \u001b[38;5;167;01mNotImplementedError\u001b[39;00m:\n\u001b[0;32m   1591\u001b[0m         \u001b[38;5;66;03m# generally if we have numeric_only=False\u001b[39;00m\n\u001b[0;32m   1592\u001b[0m         \u001b[38;5;66;03m# and non-applicable functions\u001b[39;00m\n\u001b[0;32m   1593\u001b[0m         \u001b[38;5;66;03m# try to python agg\u001b[39;00m\n\u001b[0;32m   1594\u001b[0m         \u001b[38;5;66;03m# TODO: shouldn't min_count matter?\u001b[39;00m\n\u001b[0;32m   1595\u001b[0m         result \u001b[38;5;241m=\u001b[39m \u001b[38;5;28mself\u001b[39m\u001b[38;5;241m.\u001b[39m_agg_py_fallback(values, ndim\u001b[38;5;241m=\u001b[39mdata\u001b[38;5;241m.\u001b[39mndim, alt\u001b[38;5;241m=\u001b[39malt)\n",
      "File \u001b[1;32m~\\anaconda3\\lib\\site-packages\\pandas\\core\\groupby\\ops.py:939\u001b[0m, in \u001b[0;36mBaseGrouper._cython_operation\u001b[1;34m(self, kind, values, how, axis, min_count, **kwargs)\u001b[0m\n\u001b[0;32m    937\u001b[0m ids, _, _ \u001b[38;5;241m=\u001b[39m \u001b[38;5;28mself\u001b[39m\u001b[38;5;241m.\u001b[39mgroup_info\n\u001b[0;32m    938\u001b[0m ngroups \u001b[38;5;241m=\u001b[39m \u001b[38;5;28mself\u001b[39m\u001b[38;5;241m.\u001b[39mngroups\n\u001b[1;32m--> 939\u001b[0m \u001b[38;5;28;01mreturn\u001b[39;00m cy_op\u001b[38;5;241m.\u001b[39mcython_operation(\n\u001b[0;32m    940\u001b[0m     values\u001b[38;5;241m=\u001b[39mvalues,\n\u001b[0;32m    941\u001b[0m     axis\u001b[38;5;241m=\u001b[39maxis,\n\u001b[0;32m    942\u001b[0m     min_count\u001b[38;5;241m=\u001b[39mmin_count,\n\u001b[0;32m    943\u001b[0m     comp_ids\u001b[38;5;241m=\u001b[39mids,\n\u001b[0;32m    944\u001b[0m     ngroups\u001b[38;5;241m=\u001b[39mngroups,\n\u001b[0;32m    945\u001b[0m     \u001b[38;5;241m*\u001b[39m\u001b[38;5;241m*\u001b[39mkwargs,\n\u001b[0;32m    946\u001b[0m )\n",
      "File \u001b[1;32m~\\anaconda3\\lib\\site-packages\\pandas\\core\\groupby\\ops.py:626\u001b[0m, in \u001b[0;36mWrappedCythonOp.cython_operation\u001b[1;34m(self, values, axis, min_count, comp_ids, ngroups, **kwargs)\u001b[0m\n\u001b[0;32m    616\u001b[0m \u001b[38;5;28;01mif\u001b[39;00m \u001b[38;5;129;01mnot\u001b[39;00m \u001b[38;5;28misinstance\u001b[39m(values, np\u001b[38;5;241m.\u001b[39mndarray):\n\u001b[0;32m    617\u001b[0m     \u001b[38;5;66;03m# i.e. ExtensionArray\u001b[39;00m\n\u001b[0;32m    618\u001b[0m     \u001b[38;5;28;01mreturn\u001b[39;00m \u001b[38;5;28mself\u001b[39m\u001b[38;5;241m.\u001b[39m_ea_wrap_cython_operation(\n\u001b[0;32m    619\u001b[0m         values,\n\u001b[0;32m    620\u001b[0m         min_count\u001b[38;5;241m=\u001b[39mmin_count,\n\u001b[1;32m   (...)\u001b[0m\n\u001b[0;32m    623\u001b[0m         \u001b[38;5;241m*\u001b[39m\u001b[38;5;241m*\u001b[39mkwargs,\n\u001b[0;32m    624\u001b[0m     )\n\u001b[1;32m--> 626\u001b[0m \u001b[38;5;28;01mreturn\u001b[39;00m \u001b[38;5;28mself\u001b[39m\u001b[38;5;241m.\u001b[39m_cython_op_ndim_compat(\n\u001b[0;32m    627\u001b[0m     values,\n\u001b[0;32m    628\u001b[0m     min_count\u001b[38;5;241m=\u001b[39mmin_count,\n\u001b[0;32m    629\u001b[0m     ngroups\u001b[38;5;241m=\u001b[39mngroups,\n\u001b[0;32m    630\u001b[0m     comp_ids\u001b[38;5;241m=\u001b[39mcomp_ids,\n\u001b[0;32m    631\u001b[0m     mask\u001b[38;5;241m=\u001b[39m\u001b[38;5;28;01mNone\u001b[39;00m,\n\u001b[0;32m    632\u001b[0m     \u001b[38;5;241m*\u001b[39m\u001b[38;5;241m*\u001b[39mkwargs,\n\u001b[0;32m    633\u001b[0m )\n",
      "File \u001b[1;32m~\\anaconda3\\lib\\site-packages\\pandas\\core\\groupby\\ops.py:451\u001b[0m, in \u001b[0;36mWrappedCythonOp._cython_op_ndim_compat\u001b[1;34m(self, values, min_count, ngroups, comp_ids, mask, result_mask, **kwargs)\u001b[0m\n\u001b[0;32m    449\u001b[0m \u001b[38;5;28;01mif\u001b[39;00m result_mask \u001b[38;5;129;01mis\u001b[39;00m \u001b[38;5;129;01mnot\u001b[39;00m \u001b[38;5;28;01mNone\u001b[39;00m:\n\u001b[0;32m    450\u001b[0m     result_mask \u001b[38;5;241m=\u001b[39m result_mask[\u001b[38;5;28;01mNone\u001b[39;00m, :]\n\u001b[1;32m--> 451\u001b[0m res \u001b[38;5;241m=\u001b[39m \u001b[38;5;28mself\u001b[39m\u001b[38;5;241m.\u001b[39m_call_cython_op(\n\u001b[0;32m    452\u001b[0m     values2d,\n\u001b[0;32m    453\u001b[0m     min_count\u001b[38;5;241m=\u001b[39mmin_count,\n\u001b[0;32m    454\u001b[0m     ngroups\u001b[38;5;241m=\u001b[39mngroups,\n\u001b[0;32m    455\u001b[0m     comp_ids\u001b[38;5;241m=\u001b[39mcomp_ids,\n\u001b[0;32m    456\u001b[0m     mask\u001b[38;5;241m=\u001b[39mmask,\n\u001b[0;32m    457\u001b[0m     result_mask\u001b[38;5;241m=\u001b[39mresult_mask,\n\u001b[0;32m    458\u001b[0m     \u001b[38;5;241m*\u001b[39m\u001b[38;5;241m*\u001b[39mkwargs,\n\u001b[0;32m    459\u001b[0m )\n\u001b[0;32m    460\u001b[0m \u001b[38;5;28;01mif\u001b[39;00m res\u001b[38;5;241m.\u001b[39mshape[\u001b[38;5;241m0\u001b[39m] \u001b[38;5;241m==\u001b[39m \u001b[38;5;241m1\u001b[39m:\n\u001b[0;32m    461\u001b[0m     \u001b[38;5;28;01mreturn\u001b[39;00m res[\u001b[38;5;241m0\u001b[39m]\n",
      "File \u001b[1;32m~\\anaconda3\\lib\\site-packages\\pandas\\core\\groupby\\ops.py:535\u001b[0m, in \u001b[0;36mWrappedCythonOp._call_cython_op\u001b[1;34m(self, values, min_count, ngroups, comp_ids, mask, result_mask, **kwargs)\u001b[0m\n\u001b[0;32m    523\u001b[0m     func(\n\u001b[0;32m    524\u001b[0m         result,\n\u001b[0;32m    525\u001b[0m         counts,\n\u001b[1;32m   (...)\u001b[0m\n\u001b[0;32m    531\u001b[0m         is_datetimelike\u001b[38;5;241m=\u001b[39mis_datetimelike,\n\u001b[0;32m    532\u001b[0m     )\n\u001b[0;32m    533\u001b[0m \u001b[38;5;28;01melif\u001b[39;00m \u001b[38;5;28mself\u001b[39m\u001b[38;5;241m.\u001b[39mhow \u001b[38;5;129;01min\u001b[39;00m [\u001b[38;5;124m\"\u001b[39m\u001b[38;5;124madd\u001b[39m\u001b[38;5;124m\"\u001b[39m]:\n\u001b[0;32m    534\u001b[0m     \u001b[38;5;66;03m# We support datetimelike\u001b[39;00m\n\u001b[1;32m--> 535\u001b[0m     \u001b[43mfunc\u001b[49m\u001b[43m(\u001b[49m\n\u001b[0;32m    536\u001b[0m \u001b[43m        \u001b[49m\u001b[43mresult\u001b[49m\u001b[43m,\u001b[49m\n\u001b[0;32m    537\u001b[0m \u001b[43m        \u001b[49m\u001b[43mcounts\u001b[49m\u001b[43m,\u001b[49m\n\u001b[0;32m    538\u001b[0m \u001b[43m        \u001b[49m\u001b[43mvalues\u001b[49m\u001b[43m,\u001b[49m\n\u001b[0;32m    539\u001b[0m \u001b[43m        \u001b[49m\u001b[43mcomp_ids\u001b[49m\u001b[43m,\u001b[49m\n\u001b[0;32m    540\u001b[0m \u001b[43m        \u001b[49m\u001b[43mmin_count\u001b[49m\u001b[43m,\u001b[49m\n\u001b[0;32m    541\u001b[0m \u001b[43m        \u001b[49m\u001b[43mdatetimelike\u001b[49m\u001b[38;5;241;43m=\u001b[39;49m\u001b[43mis_datetimelike\u001b[49m\u001b[43m,\u001b[49m\n\u001b[0;32m    542\u001b[0m \u001b[43m    \u001b[49m\u001b[43m)\u001b[49m\n\u001b[0;32m    543\u001b[0m \u001b[38;5;28;01melse\u001b[39;00m:\n\u001b[0;32m    544\u001b[0m     func(result, counts, values, comp_ids, min_count)\n",
      "File \u001b[1;32m~\\anaconda3\\lib\\site-packages\\pandas\\_libs\\groupby.pyx:540\u001b[0m, in \u001b[0;36mpandas._libs.groupby.group_add\u001b[1;34m()\u001b[0m\n",
      "File \u001b[1;32m~\\anaconda3\\lib\\collections\\__init__.py:762\u001b[0m, in \u001b[0;36mCounter.__add__\u001b[1;34m(self, other)\u001b[0m\n\u001b[0;32m    760\u001b[0m     newcount \u001b[38;5;241m=\u001b[39m count \u001b[38;5;241m+\u001b[39m other[elem]\n\u001b[0;32m    761\u001b[0m     \u001b[38;5;28;01mif\u001b[39;00m newcount \u001b[38;5;241m>\u001b[39m \u001b[38;5;241m0\u001b[39m:\n\u001b[1;32m--> 762\u001b[0m         result[elem] \u001b[38;5;241m=\u001b[39m newcount\n\u001b[0;32m    763\u001b[0m \u001b[38;5;28;01mfor\u001b[39;00m elem, count \u001b[38;5;129;01min\u001b[39;00m other\u001b[38;5;241m.\u001b[39mitems():\n\u001b[0;32m    764\u001b[0m     \u001b[38;5;28;01mif\u001b[39;00m elem \u001b[38;5;129;01mnot\u001b[39;00m \u001b[38;5;129;01min\u001b[39;00m \u001b[38;5;28mself\u001b[39m \u001b[38;5;129;01mand\u001b[39;00m count \u001b[38;5;241m>\u001b[39m \u001b[38;5;241m0\u001b[39m:\n",
      "\u001b[1;31mKeyboardInterrupt\u001b[0m: "
     ]
    }
   ],
   "source": [
    "def merge_dicts(x):\n",
    "    return {k: v for d in x.dropna() for k, v in d.items()}\n",
    "\n",
    "word_count_weekly = data_df.groupby(pd.Grouper(key='tweet_timestamp', axis=0, freq='7D', sort=True))['word_count'].sum()"
   ]
  },
  {
   "cell_type": "markdown",
   "id": "4f80db48",
   "metadata": {},
   "source": [
    "# Identify communities"
   ]
  },
  {
   "cell_type": "code",
   "execution_count": null,
   "id": "836650c7",
   "metadata": {},
   "outputs": [],
   "source": [
    "partition = community.best_partition(g)"
   ]
  },
  {
   "cell_type": "code",
   "execution_count": null,
   "id": "5ceff3f5",
   "metadata": {},
   "outputs": [],
   "source": [
    "communities = np.unique(list(partition.values()))"
   ]
  },
  {
   "cell_type": "code",
   "execution_count": null,
   "id": "3e2f6233",
   "metadata": {},
   "outputs": [],
   "source": []
  }
 ],
 "metadata": {
  "kernelspec": {
   "display_name": "Python 3",
   "language": "python",
   "name": "python3"
  },
  "language_info": {
   "codemirror_mode": {
    "name": "ipython",
    "version": 3
   },
   "file_extension": ".py",
   "mimetype": "text/x-python",
   "name": "python",
   "nbconvert_exporter": "python",
   "pygments_lexer": "ipython3",
   "version": "3.8.5"
  },
  "vscode": {
   "interpreter": {
    "hash": "9737f18efb1b9d105cd953add47348769fd82af91ada1884766527cfb8bc009e"
   }
  }
 },
 "nbformat": 4,
 "nbformat_minor": 5
}

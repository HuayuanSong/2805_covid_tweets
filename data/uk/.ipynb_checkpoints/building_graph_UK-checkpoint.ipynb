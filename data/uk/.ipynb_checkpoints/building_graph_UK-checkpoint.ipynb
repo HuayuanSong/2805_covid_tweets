{
 "cells": [
  {
   "cell_type": "code",
   "execution_count": 1,
   "id": "ddd04792",
   "metadata": {},
   "outputs": [],
   "source": [
    "# Import dependancies\n",
    "import tweepy\n",
    "import re\n",
    "import requests\n",
    "import pandas as pd\n",
    "from tqdm.auto import tqdm\n",
    "import numpy as np\n",
    "import pickle\n",
    "import time\n",
    "import itertools\n",
    "import networkx as nx\n",
    "import matplotlib.pyplot as plt\n",
    "import nltk\n",
    "import ast\n",
    "import community\n",
    "from nltk.corpus import stopwords\n",
    "from nltk.tokenize import RegexpTokenizer\n",
    "from collections import Counter"
   ]
  },
  {
   "cell_type": "markdown",
   "id": "e95eb07c",
   "metadata": {},
   "source": [
    "The user_id column has to be read as a str:"
   ]
  },
  {
   "cell_type": "code",
   "execution_count": 3,
   "id": "7b6da010-71fe-478d-8e09-174050910cbc",
   "metadata": {},
   "outputs": [
    {
     "name": "stderr",
     "output_type": "stream",
     "text": [
      "/Users/huayuan/opt/anaconda3/lib/python3.8/site-packages/IPython/core/interactiveshell.py:3418: DtypeWarning: Columns (0) have mixed types.Specify dtype option on import or set low_memory=False.\n",
      "  exec(code_obj, self.user_global_ns, self.user_ns)\n"
     ]
    }
   ],
   "source": [
    "# Load data\n",
    "usernames_uk = pd.read_csv(\"data/uk/files/data_w_usernames_UK.csv\",index_col=0, dtype={'user_id':str})"
   ]
  },
  {
   "cell_type": "code",
   "execution_count": 5,
   "id": "11c94984",
   "metadata": {},
   "outputs": [],
   "source": [
    "usernames_uk = usernames_uk.reset_index(drop = True)"
   ]
  },
  {
   "cell_type": "code",
   "execution_count": 7,
   "id": "c928494e",
   "metadata": {},
   "outputs": [],
   "source": [
    "mentions = pd.read_csv(\"data/uk/files/mentions.csv\", index_col = 0)\n",
    "mentions = mentions.reset_index(drop=True)"
   ]
  },
  {
   "cell_type": "markdown",
   "id": "39c51553",
   "metadata": {},
   "source": [
    "Merging the dataframe that contains only the twitter with at least one mention with the dataframe that contained the scraped usernames"
   ]
  },
  {
   "cell_type": "code",
   "execution_count": 8,
   "id": "556b9dc1",
   "metadata": {},
   "outputs": [],
   "source": [
    "mentions['username'] = pd.merge(mentions, usernames_uk, on = \"tweet_ID\").iloc[:, -1] "
   ]
  },
  {
   "cell_type": "code",
   "execution_count": 9,
   "id": "812e6263",
   "metadata": {},
   "outputs": [],
   "source": [
    "data_df = mentions"
   ]
  },
  {
   "cell_type": "code",
   "execution_count": 10,
   "id": "1d613317",
   "metadata": {},
   "outputs": [
    {
     "data": {
      "text/html": [
       "<div>\n",
       "<style scoped>\n",
       "    .dataframe tbody tr th:only-of-type {\n",
       "        vertical-align: middle;\n",
       "    }\n",
       "\n",
       "    .dataframe tbody tr th {\n",
       "        vertical-align: top;\n",
       "    }\n",
       "\n",
       "    .dataframe thead th {\n",
       "        text-align: right;\n",
       "    }\n",
       "</style>\n",
       "<table border=\"1\" class=\"dataframe\">\n",
       "  <thead>\n",
       "    <tr style=\"text-align: right;\">\n",
       "      <th></th>\n",
       "      <th>tweet_ID</th>\n",
       "      <th>user_id</th>\n",
       "      <th>keywords</th>\n",
       "      <th>tweet_timestamp</th>\n",
       "      <th>valence_intensity</th>\n",
       "      <th>fear_intensity</th>\n",
       "      <th>anger_intensity</th>\n",
       "      <th>happiness_intensity</th>\n",
       "      <th>sadness_intensity</th>\n",
       "      <th>sentiment</th>\n",
       "      <th>emotion</th>\n",
       "      <th>tweet</th>\n",
       "      <th>len_content</th>\n",
       "      <th>mentions</th>\n",
       "      <th>username</th>\n",
       "    </tr>\n",
       "  </thead>\n",
       "  <tbody>\n",
       "    <tr>\n",
       "      <th>0</th>\n",
       "      <td>1234294853330182144</td>\n",
       "      <td>20973388</td>\n",
       "      <td>covid</td>\n",
       "      <td>2020-03-02 01:49:59</td>\n",
       "      <td>0.406</td>\n",
       "      <td>0.613</td>\n",
       "      <td>0.458</td>\n",
       "      <td>0.271</td>\n",
       "      <td>0.460</td>\n",
       "      <td>-1.0</td>\n",
       "      <td>F</td>\n",
       "      <td>The UK government is considering all options, ...</td>\n",
       "      <td>27.0</td>\n",
       "      <td>['darrenadam']</td>\n",
       "      <td>PatrickDoyle83</td>\n",
       "    </tr>\n",
       "    <tr>\n",
       "      <th>1</th>\n",
       "      <td>1234305116506861568</td>\n",
       "      <td>442831126</td>\n",
       "      <td>covid</td>\n",
       "      <td>2020-03-02 02:30:46</td>\n",
       "      <td>0.665</td>\n",
       "      <td>0.326</td>\n",
       "      <td>0.373</td>\n",
       "      <td>0.443</td>\n",
       "      <td>0.325</td>\n",
       "      <td>1.0</td>\n",
       "      <td>H</td>\n",
       "      <td>@Grummz An article for you after yesterday's m...</td>\n",
       "      <td>18.0</td>\n",
       "      <td>['Grummz']</td>\n",
       "      <td>BatemanStuart1</td>\n",
       "    </tr>\n",
       "    <tr>\n",
       "      <th>2</th>\n",
       "      <td>1234310189404348417</td>\n",
       "      <td>1157949934949347328</td>\n",
       "      <td>wuhan</td>\n",
       "      <td>2020-03-02 02:50:56</td>\n",
       "      <td>0.371</td>\n",
       "      <td>0.525</td>\n",
       "      <td>0.426</td>\n",
       "      <td>0.234</td>\n",
       "      <td>0.455</td>\n",
       "      <td>-1.0</td>\n",
       "      <td>F</td>\n",
       "      <td>@fascinatorfun So question is why the mortalit...</td>\n",
       "      <td>14.0</td>\n",
       "      <td>['fascinatorfun']</td>\n",
       "      <td>MUVAHOOD</td>\n",
       "    </tr>\n",
       "    <tr>\n",
       "      <th>3</th>\n",
       "      <td>1234318241431990272</td>\n",
       "      <td>16027848</td>\n",
       "      <td>covid</td>\n",
       "      <td>2020-03-02 03:22:55</td>\n",
       "      <td>0.329</td>\n",
       "      <td>0.587</td>\n",
       "      <td>0.570</td>\n",
       "      <td>0.138</td>\n",
       "      <td>0.474</td>\n",
       "      <td>-1.0</td>\n",
       "      <td>F</td>\n",
       "      <td>Video: #ToxicTories try to hide damage to NHS ...</td>\n",
       "      <td>27.0</td>\n",
       "      <td>['skwawkbox']</td>\n",
       "      <td>deadendfriends8</td>\n",
       "    </tr>\n",
       "    <tr>\n",
       "      <th>4</th>\n",
       "      <td>1234321940401270785</td>\n",
       "      <td>282914879</td>\n",
       "      <td>covid</td>\n",
       "      <td>2020-03-02 03:37:37</td>\n",
       "      <td>0.514</td>\n",
       "      <td>0.364</td>\n",
       "      <td>0.370</td>\n",
       "      <td>0.361</td>\n",
       "      <td>0.360</td>\n",
       "      <td>0.0</td>\n",
       "      <td>NaN</td>\n",
       "      <td>@dray24574721 @BNODesk This, from S Korea afte...</td>\n",
       "      <td>15.0</td>\n",
       "      <td>['dray24574721', 'BNODesk']</td>\n",
       "      <td>hoglet3</td>\n",
       "    </tr>\n",
       "    <tr>\n",
       "      <th>...</th>\n",
       "      <td>...</td>\n",
       "      <td>...</td>\n",
       "      <td>...</td>\n",
       "      <td>...</td>\n",
       "      <td>...</td>\n",
       "      <td>...</td>\n",
       "      <td>...</td>\n",
       "      <td>...</td>\n",
       "      <td>...</td>\n",
       "      <td>...</td>\n",
       "      <td>...</td>\n",
       "      <td>...</td>\n",
       "      <td>...</td>\n",
       "      <td>...</td>\n",
       "      <td>...</td>\n",
       "    </tr>\n",
       "    <tr>\n",
       "      <th>271091</th>\n",
       "      <td>1285835534766673923</td>\n",
       "      <td>916192094330507264</td>\n",
       "      <td>covid</td>\n",
       "      <td>2020-07-22 07:14:15</td>\n",
       "      <td>0.629</td>\n",
       "      <td>0.306</td>\n",
       "      <td>0.315</td>\n",
       "      <td>0.454</td>\n",
       "      <td>0.285</td>\n",
       "      <td>1.0</td>\n",
       "      <td>H</td>\n",
       "      <td>#Reboot weekends have started up again.  #covi...</td>\n",
       "      <td>24.0</td>\n",
       "      <td>['actressann']</td>\n",
       "      <td>NaN</td>\n",
       "    </tr>\n",
       "    <tr>\n",
       "      <th>271092</th>\n",
       "      <td>1285835650059636736</td>\n",
       "      <td>3057049653</td>\n",
       "      <td>covid</td>\n",
       "      <td>2020-07-22 07:14:43</td>\n",
       "      <td>0.440</td>\n",
       "      <td>0.399</td>\n",
       "      <td>0.464</td>\n",
       "      <td>0.245</td>\n",
       "      <td>0.436</td>\n",
       "      <td>-1.0</td>\n",
       "      <td>A</td>\n",
       "      <td>@Gnomeponders My daughter and partner are both...</td>\n",
       "      <td>20.0</td>\n",
       "      <td>['Gnomeponders']</td>\n",
       "      <td>NaN</td>\n",
       "    </tr>\n",
       "    <tr>\n",
       "      <th>271093</th>\n",
       "      <td>1285835723740856321</td>\n",
       "      <td>216650916</td>\n",
       "      <td>covid</td>\n",
       "      <td>2020-07-22 07:15:00</td>\n",
       "      <td>0.598</td>\n",
       "      <td>0.336</td>\n",
       "      <td>0.330</td>\n",
       "      <td>0.406</td>\n",
       "      <td>0.318</td>\n",
       "      <td>1.0</td>\n",
       "      <td>H</td>\n",
       "      <td>Join on September 1st @ 5pm for a HealthChat w...</td>\n",
       "      <td>41.0</td>\n",
       "      <td>['RoyLilley']</td>\n",
       "      <td>NaN</td>\n",
       "    </tr>\n",
       "    <tr>\n",
       "      <th>271094</th>\n",
       "      <td>1285835987424337921</td>\n",
       "      <td>75508547</td>\n",
       "      <td>corona</td>\n",
       "      <td>2020-07-22 07:16:03</td>\n",
       "      <td>0.250</td>\n",
       "      <td>0.507</td>\n",
       "      <td>0.608</td>\n",
       "      <td>0.141</td>\n",
       "      <td>0.508</td>\n",
       "      <td>-2.0</td>\n",
       "      <td>A</td>\n",
       "      <td>@sidudeja But why would you want anyone dead? ...</td>\n",
       "      <td>24.0</td>\n",
       "      <td>['sidudeja']</td>\n",
       "      <td>NaN</td>\n",
       "    </tr>\n",
       "    <tr>\n",
       "      <th>271095</th>\n",
       "      <td>1285836106496385025</td>\n",
       "      <td>1096478949725614080</td>\n",
       "      <td>covid</td>\n",
       "      <td>2020-07-22 07:16:32</td>\n",
       "      <td>0.325</td>\n",
       "      <td>0.537</td>\n",
       "      <td>0.504</td>\n",
       "      <td>0.186</td>\n",
       "      <td>0.483</td>\n",
       "      <td>-1.0</td>\n",
       "      <td>F</td>\n",
       "      <td>@LondonPehwb @grantshapps Absolutely.  However...</td>\n",
       "      <td>49.0</td>\n",
       "      <td>['LondonPehwb', 'grantshapps']</td>\n",
       "      <td>NaN</td>\n",
       "    </tr>\n",
       "  </tbody>\n",
       "</table>\n",
       "<p>271096 rows × 15 columns</p>\n",
       "</div>"
      ],
      "text/plain": [
       "                   tweet_ID              user_id keywords  \\\n",
       "0       1234294853330182144             20973388    covid   \n",
       "1       1234305116506861568            442831126    covid   \n",
       "2       1234310189404348417  1157949934949347328    wuhan   \n",
       "3       1234318241431990272             16027848    covid   \n",
       "4       1234321940401270785            282914879    covid   \n",
       "...                     ...                  ...      ...   \n",
       "271091  1285835534766673923   916192094330507264    covid   \n",
       "271092  1285835650059636736           3057049653    covid   \n",
       "271093  1285835723740856321            216650916    covid   \n",
       "271094  1285835987424337921             75508547   corona   \n",
       "271095  1285836106496385025  1096478949725614080    covid   \n",
       "\n",
       "            tweet_timestamp  valence_intensity  fear_intensity  \\\n",
       "0       2020-03-02 01:49:59              0.406           0.613   \n",
       "1       2020-03-02 02:30:46              0.665           0.326   \n",
       "2       2020-03-02 02:50:56              0.371           0.525   \n",
       "3       2020-03-02 03:22:55              0.329           0.587   \n",
       "4       2020-03-02 03:37:37              0.514           0.364   \n",
       "...                     ...                ...             ...   \n",
       "271091  2020-07-22 07:14:15              0.629           0.306   \n",
       "271092  2020-07-22 07:14:43              0.440           0.399   \n",
       "271093  2020-07-22 07:15:00              0.598           0.336   \n",
       "271094  2020-07-22 07:16:03              0.250           0.507   \n",
       "271095  2020-07-22 07:16:32              0.325           0.537   \n",
       "\n",
       "        anger_intensity  happiness_intensity  sadness_intensity  sentiment  \\\n",
       "0                 0.458                0.271              0.460       -1.0   \n",
       "1                 0.373                0.443              0.325        1.0   \n",
       "2                 0.426                0.234              0.455       -1.0   \n",
       "3                 0.570                0.138              0.474       -1.0   \n",
       "4                 0.370                0.361              0.360        0.0   \n",
       "...                 ...                  ...                ...        ...   \n",
       "271091            0.315                0.454              0.285        1.0   \n",
       "271092            0.464                0.245              0.436       -1.0   \n",
       "271093            0.330                0.406              0.318        1.0   \n",
       "271094            0.608                0.141              0.508       -2.0   \n",
       "271095            0.504                0.186              0.483       -1.0   \n",
       "\n",
       "       emotion                                              tweet  \\\n",
       "0            F  The UK government is considering all options, ...   \n",
       "1            H  @Grummz An article for you after yesterday's m...   \n",
       "2            F  @fascinatorfun So question is why the mortalit...   \n",
       "3            F  Video: #ToxicTories try to hide damage to NHS ...   \n",
       "4          NaN  @dray24574721 @BNODesk This, from S Korea afte...   \n",
       "...        ...                                                ...   \n",
       "271091       H  #Reboot weekends have started up again.  #covi...   \n",
       "271092       A  @Gnomeponders My daughter and partner are both...   \n",
       "271093       H  Join on September 1st @ 5pm for a HealthChat w...   \n",
       "271094       A  @sidudeja But why would you want anyone dead? ...   \n",
       "271095       F  @LondonPehwb @grantshapps Absolutely.  However...   \n",
       "\n",
       "        len_content                        mentions         username  \n",
       "0              27.0                  ['darrenadam']   PatrickDoyle83  \n",
       "1              18.0                      ['Grummz']   BatemanStuart1  \n",
       "2              14.0               ['fascinatorfun']         MUVAHOOD  \n",
       "3              27.0                   ['skwawkbox']  deadendfriends8  \n",
       "4              15.0     ['dray24574721', 'BNODesk']          hoglet3  \n",
       "...             ...                             ...              ...  \n",
       "271091         24.0                  ['actressann']              NaN  \n",
       "271092         20.0                ['Gnomeponders']              NaN  \n",
       "271093         41.0                   ['RoyLilley']              NaN  \n",
       "271094         24.0                    ['sidudeja']              NaN  \n",
       "271095         49.0  ['LondonPehwb', 'grantshapps']              NaN  \n",
       "\n",
       "[271096 rows x 15 columns]"
      ]
     },
     "execution_count": 10,
     "metadata": {},
     "output_type": "execute_result"
    }
   ],
   "source": [
    "data_df"
   ]
  },
  {
   "cell_type": "markdown",
   "id": "f2450d1a",
   "metadata": {},
   "source": [
    "Removing the rows for which it was not possible to retrieve the usernames:"
   ]
  },
  {
   "cell_type": "code",
   "execution_count": 12,
   "id": "81eac05a",
   "metadata": {},
   "outputs": [],
   "source": [
    "data_df = data_df.dropna(subset=['username']).reset_index(drop=True)"
   ]
  },
  {
   "cell_type": "code",
   "execution_count": 13,
   "id": "607e054b",
   "metadata": {},
   "outputs": [
    {
     "data": {
      "text/html": [
       "<div>\n",
       "<style scoped>\n",
       "    .dataframe tbody tr th:only-of-type {\n",
       "        vertical-align: middle;\n",
       "    }\n",
       "\n",
       "    .dataframe tbody tr th {\n",
       "        vertical-align: top;\n",
       "    }\n",
       "\n",
       "    .dataframe thead th {\n",
       "        text-align: right;\n",
       "    }\n",
       "</style>\n",
       "<table border=\"1\" class=\"dataframe\">\n",
       "  <thead>\n",
       "    <tr style=\"text-align: right;\">\n",
       "      <th></th>\n",
       "      <th>tweet_ID</th>\n",
       "      <th>user_id</th>\n",
       "      <th>keywords</th>\n",
       "      <th>tweet_timestamp</th>\n",
       "      <th>valence_intensity</th>\n",
       "      <th>fear_intensity</th>\n",
       "      <th>anger_intensity</th>\n",
       "      <th>happiness_intensity</th>\n",
       "      <th>sadness_intensity</th>\n",
       "      <th>sentiment</th>\n",
       "      <th>emotion</th>\n",
       "      <th>tweet</th>\n",
       "      <th>len_content</th>\n",
       "      <th>mentions</th>\n",
       "      <th>username</th>\n",
       "    </tr>\n",
       "  </thead>\n",
       "  <tbody>\n",
       "    <tr>\n",
       "      <th>0</th>\n",
       "      <td>1234294853330182144</td>\n",
       "      <td>20973388</td>\n",
       "      <td>covid</td>\n",
       "      <td>2020-03-02 01:49:59</td>\n",
       "      <td>0.406</td>\n",
       "      <td>0.613</td>\n",
       "      <td>0.458</td>\n",
       "      <td>0.271</td>\n",
       "      <td>0.460</td>\n",
       "      <td>-1.0</td>\n",
       "      <td>F</td>\n",
       "      <td>The UK government is considering all options, ...</td>\n",
       "      <td>27.0</td>\n",
       "      <td>['darrenadam']</td>\n",
       "      <td>PatrickDoyle83</td>\n",
       "    </tr>\n",
       "    <tr>\n",
       "      <th>1</th>\n",
       "      <td>1234305116506861568</td>\n",
       "      <td>442831126</td>\n",
       "      <td>covid</td>\n",
       "      <td>2020-03-02 02:30:46</td>\n",
       "      <td>0.665</td>\n",
       "      <td>0.326</td>\n",
       "      <td>0.373</td>\n",
       "      <td>0.443</td>\n",
       "      <td>0.325</td>\n",
       "      <td>1.0</td>\n",
       "      <td>H</td>\n",
       "      <td>@Grummz An article for you after yesterday's m...</td>\n",
       "      <td>18.0</td>\n",
       "      <td>['Grummz']</td>\n",
       "      <td>BatemanStuart1</td>\n",
       "    </tr>\n",
       "    <tr>\n",
       "      <th>2</th>\n",
       "      <td>1234310189404348417</td>\n",
       "      <td>1157949934949347328</td>\n",
       "      <td>wuhan</td>\n",
       "      <td>2020-03-02 02:50:56</td>\n",
       "      <td>0.371</td>\n",
       "      <td>0.525</td>\n",
       "      <td>0.426</td>\n",
       "      <td>0.234</td>\n",
       "      <td>0.455</td>\n",
       "      <td>-1.0</td>\n",
       "      <td>F</td>\n",
       "      <td>@fascinatorfun So question is why the mortalit...</td>\n",
       "      <td>14.0</td>\n",
       "      <td>['fascinatorfun']</td>\n",
       "      <td>MUVAHOOD</td>\n",
       "    </tr>\n",
       "    <tr>\n",
       "      <th>3</th>\n",
       "      <td>1234318241431990272</td>\n",
       "      <td>16027848</td>\n",
       "      <td>covid</td>\n",
       "      <td>2020-03-02 03:22:55</td>\n",
       "      <td>0.329</td>\n",
       "      <td>0.587</td>\n",
       "      <td>0.570</td>\n",
       "      <td>0.138</td>\n",
       "      <td>0.474</td>\n",
       "      <td>-1.0</td>\n",
       "      <td>F</td>\n",
       "      <td>Video: #ToxicTories try to hide damage to NHS ...</td>\n",
       "      <td>27.0</td>\n",
       "      <td>['skwawkbox']</td>\n",
       "      <td>deadendfriends8</td>\n",
       "    </tr>\n",
       "    <tr>\n",
       "      <th>4</th>\n",
       "      <td>1234321940401270785</td>\n",
       "      <td>282914879</td>\n",
       "      <td>covid</td>\n",
       "      <td>2020-03-02 03:37:37</td>\n",
       "      <td>0.514</td>\n",
       "      <td>0.364</td>\n",
       "      <td>0.370</td>\n",
       "      <td>0.361</td>\n",
       "      <td>0.360</td>\n",
       "      <td>0.0</td>\n",
       "      <td>NaN</td>\n",
       "      <td>@dray24574721 @BNODesk This, from S Korea afte...</td>\n",
       "      <td>15.0</td>\n",
       "      <td>['dray24574721', 'BNODesk']</td>\n",
       "      <td>hoglet3</td>\n",
       "    </tr>\n",
       "    <tr>\n",
       "      <th>...</th>\n",
       "      <td>...</td>\n",
       "      <td>...</td>\n",
       "      <td>...</td>\n",
       "      <td>...</td>\n",
       "      <td>...</td>\n",
       "      <td>...</td>\n",
       "      <td>...</td>\n",
       "      <td>...</td>\n",
       "      <td>...</td>\n",
       "      <td>...</td>\n",
       "      <td>...</td>\n",
       "      <td>...</td>\n",
       "      <td>...</td>\n",
       "      <td>...</td>\n",
       "      <td>...</td>\n",
       "    </tr>\n",
       "    <tr>\n",
       "      <th>269755</th>\n",
       "      <td>1285590859094863873</td>\n",
       "      <td>104942955</td>\n",
       "      <td>covid</td>\n",
       "      <td>2020-07-21 15:02:00</td>\n",
       "      <td>0.634</td>\n",
       "      <td>0.270</td>\n",
       "      <td>0.329</td>\n",
       "      <td>0.419</td>\n",
       "      <td>0.296</td>\n",
       "      <td>1.0</td>\n",
       "      <td>H</td>\n",
       "      <td>🌟 Free HR Advice 🌟\\n\\nInspiring People HR @Ins...</td>\n",
       "      <td>35.0</td>\n",
       "      <td>['InspiringPplHR']</td>\n",
       "      <td>opus_llp</td>\n",
       "    </tr>\n",
       "    <tr>\n",
       "      <th>269756</th>\n",
       "      <td>1285590913683722242</td>\n",
       "      <td>556875827</td>\n",
       "      <td>covid</td>\n",
       "      <td>2020-07-21 15:02:13</td>\n",
       "      <td>0.536</td>\n",
       "      <td>0.462</td>\n",
       "      <td>0.382</td>\n",
       "      <td>0.381</td>\n",
       "      <td>0.389</td>\n",
       "      <td>1.0</td>\n",
       "      <td>H</td>\n",
       "      <td>Excellent blog by @M_Winthrop - on the impacts...</td>\n",
       "      <td>32.0</td>\n",
       "      <td>['M_Winthrop']</td>\n",
       "      <td>bradleyyyshea</td>\n",
       "    </tr>\n",
       "    <tr>\n",
       "      <th>269757</th>\n",
       "      <td>1285591051756023809</td>\n",
       "      <td>102957958</td>\n",
       "      <td>covid</td>\n",
       "      <td>2020-07-21 15:02:46</td>\n",
       "      <td>0.578</td>\n",
       "      <td>0.405</td>\n",
       "      <td>0.402</td>\n",
       "      <td>0.348</td>\n",
       "      <td>0.389</td>\n",
       "      <td>1.0</td>\n",
       "      <td>H</td>\n",
       "      <td>#Wellbeing | Protecting #BAME employees from #...</td>\n",
       "      <td>36.0</td>\n",
       "      <td>['Generali_UK']</td>\n",
       "      <td>JarobeHHF</td>\n",
       "    </tr>\n",
       "    <tr>\n",
       "      <th>269758</th>\n",
       "      <td>1285591471194857474</td>\n",
       "      <td>1080551330849136641</td>\n",
       "      <td>covid</td>\n",
       "      <td>2020-07-21 15:04:26</td>\n",
       "      <td>0.399</td>\n",
       "      <td>0.414</td>\n",
       "      <td>0.458</td>\n",
       "      <td>0.275</td>\n",
       "      <td>0.485</td>\n",
       "      <td>-1.0</td>\n",
       "      <td>S</td>\n",
       "      <td>@itslifeaslolly All but 3, due to complication...</td>\n",
       "      <td>43.0</td>\n",
       "      <td>['itslifeaslolly']</td>\n",
       "      <td>YLALawyers</td>\n",
       "    </tr>\n",
       "    <tr>\n",
       "      <th>269759</th>\n",
       "      <td>1285591579521146880</td>\n",
       "      <td>37449155</td>\n",
       "      <td>covid</td>\n",
       "      <td>2020-07-21 15:04:52</td>\n",
       "      <td>0.530</td>\n",
       "      <td>0.478</td>\n",
       "      <td>0.418</td>\n",
       "      <td>0.420</td>\n",
       "      <td>0.416</td>\n",
       "      <td>1.0</td>\n",
       "      <td>H</td>\n",
       "      <td>@SarahLouWrites0 Thanks. She’s home and restin...</td>\n",
       "      <td>24.0</td>\n",
       "      <td>['SarahLouWrites0']</td>\n",
       "      <td>jennigbradshaw</td>\n",
       "    </tr>\n",
       "  </tbody>\n",
       "</table>\n",
       "<p>269760 rows × 15 columns</p>\n",
       "</div>"
      ],
      "text/plain": [
       "                   tweet_ID              user_id keywords  \\\n",
       "0       1234294853330182144             20973388    covid   \n",
       "1       1234305116506861568            442831126    covid   \n",
       "2       1234310189404348417  1157949934949347328    wuhan   \n",
       "3       1234318241431990272             16027848    covid   \n",
       "4       1234321940401270785            282914879    covid   \n",
       "...                     ...                  ...      ...   \n",
       "269755  1285590859094863873            104942955    covid   \n",
       "269756  1285590913683722242            556875827    covid   \n",
       "269757  1285591051756023809            102957958    covid   \n",
       "269758  1285591471194857474  1080551330849136641    covid   \n",
       "269759  1285591579521146880             37449155    covid   \n",
       "\n",
       "            tweet_timestamp  valence_intensity  fear_intensity  \\\n",
       "0       2020-03-02 01:49:59              0.406           0.613   \n",
       "1       2020-03-02 02:30:46              0.665           0.326   \n",
       "2       2020-03-02 02:50:56              0.371           0.525   \n",
       "3       2020-03-02 03:22:55              0.329           0.587   \n",
       "4       2020-03-02 03:37:37              0.514           0.364   \n",
       "...                     ...                ...             ...   \n",
       "269755  2020-07-21 15:02:00              0.634           0.270   \n",
       "269756  2020-07-21 15:02:13              0.536           0.462   \n",
       "269757  2020-07-21 15:02:46              0.578           0.405   \n",
       "269758  2020-07-21 15:04:26              0.399           0.414   \n",
       "269759  2020-07-21 15:04:52              0.530           0.478   \n",
       "\n",
       "        anger_intensity  happiness_intensity  sadness_intensity  sentiment  \\\n",
       "0                 0.458                0.271              0.460       -1.0   \n",
       "1                 0.373                0.443              0.325        1.0   \n",
       "2                 0.426                0.234              0.455       -1.0   \n",
       "3                 0.570                0.138              0.474       -1.0   \n",
       "4                 0.370                0.361              0.360        0.0   \n",
       "...                 ...                  ...                ...        ...   \n",
       "269755            0.329                0.419              0.296        1.0   \n",
       "269756            0.382                0.381              0.389        1.0   \n",
       "269757            0.402                0.348              0.389        1.0   \n",
       "269758            0.458                0.275              0.485       -1.0   \n",
       "269759            0.418                0.420              0.416        1.0   \n",
       "\n",
       "       emotion                                              tweet  \\\n",
       "0            F  The UK government is considering all options, ...   \n",
       "1            H  @Grummz An article for you after yesterday's m...   \n",
       "2            F  @fascinatorfun So question is why the mortalit...   \n",
       "3            F  Video: #ToxicTories try to hide damage to NHS ...   \n",
       "4          NaN  @dray24574721 @BNODesk This, from S Korea afte...   \n",
       "...        ...                                                ...   \n",
       "269755       H  🌟 Free HR Advice 🌟\\n\\nInspiring People HR @Ins...   \n",
       "269756       H  Excellent blog by @M_Winthrop - on the impacts...   \n",
       "269757       H  #Wellbeing | Protecting #BAME employees from #...   \n",
       "269758       S  @itslifeaslolly All but 3, due to complication...   \n",
       "269759       H  @SarahLouWrites0 Thanks. She’s home and restin...   \n",
       "\n",
       "        len_content                     mentions         username  \n",
       "0              27.0               ['darrenadam']   PatrickDoyle83  \n",
       "1              18.0                   ['Grummz']   BatemanStuart1  \n",
       "2              14.0            ['fascinatorfun']         MUVAHOOD  \n",
       "3              27.0                ['skwawkbox']  deadendfriends8  \n",
       "4              15.0  ['dray24574721', 'BNODesk']          hoglet3  \n",
       "...             ...                          ...              ...  \n",
       "269755         35.0           ['InspiringPplHR']         opus_llp  \n",
       "269756         32.0               ['M_Winthrop']    bradleyyyshea  \n",
       "269757         36.0              ['Generali_UK']        JarobeHHF  \n",
       "269758         43.0           ['itslifeaslolly']       YLALawyers  \n",
       "269759         24.0          ['SarahLouWrites0']   jennigbradshaw  \n",
       "\n",
       "[269760 rows x 15 columns]"
      ]
     },
     "execution_count": 13,
     "metadata": {},
     "output_type": "execute_result"
    }
   ],
   "source": [
    "data_df"
   ]
  },
  {
   "cell_type": "markdown",
   "id": "c7281fe3",
   "metadata": {},
   "source": [
    "To read each list in the column 'mentions' as a list and not as a str:"
   ]
  },
  {
   "cell_type": "code",
   "execution_count": 14,
   "id": "1491e3d5",
   "metadata": {},
   "outputs": [],
   "source": [
    "data_df['mentions'] = data_df['mentions'].apply(ast.literal_eval)"
   ]
  },
  {
   "cell_type": "markdown",
   "id": "9b00ce17",
   "metadata": {},
   "source": [
    "# Network"
   ]
  },
  {
   "cell_type": "code",
   "execution_count": 15,
   "id": "cbe120d8",
   "metadata": {},
   "outputs": [],
   "source": [
    "dict_edges = dict(zip(data_df['username'], data_df['mentions']))"
   ]
  },
  {
   "cell_type": "code",
   "execution_count": 16,
   "id": "1d13db72",
   "metadata": {},
   "outputs": [],
   "source": [
    "g = nx.DiGraph(dict_edges)"
   ]
  },
  {
   "cell_type": "code",
   "execution_count": 17,
   "id": "5dfde195",
   "metadata": {},
   "outputs": [
    {
     "data": {
      "text/plain": [
       "256041"
      ]
     },
     "execution_count": 17,
     "metadata": {},
     "output_type": "execute_result"
    }
   ],
   "source": [
    "len(g.edges)"
   ]
  },
  {
   "cell_type": "code",
   "execution_count": 18,
   "id": "ad864477",
   "metadata": {},
   "outputs": [
    {
     "data": {
      "text/plain": [
       "255126"
      ]
     },
     "execution_count": 18,
     "metadata": {},
     "output_type": "execute_result"
    }
   ],
   "source": [
    "len(g.nodes)"
   ]
  },
  {
   "cell_type": "code",
   "execution_count": 19,
   "id": "81737be5",
   "metadata": {},
   "outputs": [],
   "source": [
    "in_degree_tuples = g.in_degree(g.nodes())\n",
    "in_degree = [x[1] for x in in_degree_tuples] "
   ]
  },
  {
   "cell_type": "code",
   "execution_count": 20,
   "id": "490357f3",
   "metadata": {},
   "outputs": [],
   "source": [
    "out_degree_tuples = g.out_degree(g.nodes())\n",
    "out_degree = [x[1] for x in out_degree_tuples] "
   ]
  },
  {
   "cell_type": "code",
   "execution_count": 28,
   "id": "0d11a0de",
   "metadata": {},
   "outputs": [
    {
     "name": "stdout",
     "output_type": "stream",
     "text": [
      "In degree\tmax: 3512\tmin: 0\n",
      "Out degree\tmax: 19\tmin: 0\n",
      "Nodes with in-degree larger than 100: 108\n"
     ]
    }
   ],
   "source": [
    "print('In degree\\tmax: {}\\tmin: {}'.format(max(in_degree),min(in_degree)))\n",
    "print('Out degree\\tmax: {}\\tmin: {}'.format(max(out_degree),min(out_degree)))\n",
    "print('Nodes with in-degree larger than 100: {}'.format(len([i for i in in_degree if i >100])))"
   ]
  },
  {
   "cell_type": "markdown",
   "id": "b3dd36be",
   "metadata": {},
   "source": [
    "Comparison of in-degree and out-degree distributions. The in-degree distribution has been zoomed to make it clear that for most of the users the in-degree is similar to the out degree except for some outliers that have very large in-degree because probably they are famous accounts such as news account or popular people (politicians or influencers) or famous organizations."
   ]
  },
  {
   "cell_type": "code",
   "execution_count": 29,
   "id": "e303a53a",
   "metadata": {},
   "outputs": [
    {
     "data": {
      "image/png": "[encoded data removed]",
      "text/plain": [
       "<Figure size 432x288 with 1 Axes>"
      ]
     },
     "metadata": {
      "needs_background": "light"
     },
     "output_type": "display_data"
    },
    {
     "data": {
      "image/png": "[encoded data removed]",
      "text/plain": [
       "<Figure size 432x288 with 1 Axes>"
      ]
     },
     "metadata": {
      "needs_background": "light"
     },
     "output_type": "display_data"
    }
   ],
   "source": [
    "plt.title(\"In-degree distribution for UK\",pad = 20.0)\n",
    "plt.hist(in_degree, bins = np.arange(np.min(in_degree), np.max(in_degree)+2))\n",
    "plt.ylabel(\"Count\")\n",
    "plt.xlabel(\"Degree\")\n",
    "plt.yscale('log')\n",
    "plt.show()\n",
    "\n",
    "plt.title(\"Out-degree distribution for UK\",pad = 20.0)\n",
    "plt.hist(out_degree, bins = np.arange(np.min(out_degree), np.max(out_degree)+2))\n",
    "plt.ylabel(\"Count\")\n",
    "plt.xlabel(\"Degree\")\n",
    "plt.show()\n"
   ]
  },
  {
   "cell_type": "markdown",
   "id": "83850c68",
   "metadata": {},
   "source": [
    "In-degree distribution plotted using a log scale for the y axis:"
   ]
  },
  {
   "cell_type": "code",
   "execution_count": 22,
   "id": "51251508",
   "metadata": {},
   "outputs": [
    {
     "data": {
      "image/png": "[encoded data removed]",
      "text/plain": [
       "<Figure size 432x288 with 1 Axes>"
      ]
     },
     "metadata": {
      "needs_background": "light"
     },
     "output_type": "display_data"
    }
   ],
   "source": [
    "plt.hist(in_degree, bins = np.arange(np.min(in_degree), np.max(in_degree)+2))\n",
    "plt.yscale('log')\n",
    "plt.show()"
   ]
  },
  {
   "cell_type": "code",
   "execution_count": 23,
   "id": "5f05f41d",
   "metadata": {},
   "outputs": [
    {
     "name": "stdout",
     "output_type": "stream",
     "text": [
      "Top most in-degree connected users: , ['BorisJohnson', 'piersmorgan', 'UKChange', 'MattHancock', 'realDonaldTrump', 'YouTube', 'BBCNews', 'SkyNews', 'NicolaSturgeon', 'ProfKarolSikora', 'WHO', '10DowningStreet', 'PHE_uk', 'GMB', 'Keir_Starmer', 'RishiSunak', 'afneil', 'MailOnline', 'guardian', 'LBC']\n",
      "Top most out-degree connected users: , ['Richwfc2', 'rrigby83', 'compersnews12', 'BB1887', '___Mollyyy___', 'Rachel_Slawson', 'neil_ackland', 'naomi_jones', 'KieranM82920843', 'ConnorTeri1']\n"
     ]
    }
   ],
   "source": [
    "dict_in_degree = dict(g.in_degree(g.nodes))\n",
    "print(\"Top most in-degree connected users: ,\", sorted(dict_in_degree, key=dict_in_degree.get, reverse=True)[:20])\n",
    "dict_out_degree = dict(g.out_degree(g.nodes))\n",
    "print(\"Top most out-degree connected users: ,\", sorted(dict_out_degree, key=dict_out_degree.get, reverse=True)[:10])"
   ]
  },
  {
   "cell_type": "markdown",
   "id": "e5242546",
   "metadata": {},
   "source": [
    "# Tweets analysis"
   ]
  },
  {
   "cell_type": "markdown",
   "id": "4afecb56",
   "metadata": {},
   "source": [
    "Tokenize the tweets:"
   ]
  },
  {
   "cell_type": "code",
   "execution_count": 96,
   "id": "53077b19",
   "metadata": {},
   "outputs": [],
   "source": [
    "stop_words = set(stopwords.words('english'))\n",
    "tokenizer = RegexpTokenizer(r'\\w+') \n",
    "\n",
    "def tokenize_tweet(tweet):\n",
    "    \n",
    "    word_tokens = tokenizer.tokenize(tweet)\n",
    "    filtered_sentence = [w.lower() for w in word_tokens if not w.lower() in stop_words]\n",
    "    return filtered_sentence\n"
   ]
  },
  {
   "cell_type": "code",
   "execution_count": 97,
   "id": "04cf3b0d",
   "metadata": {},
   "outputs": [],
   "source": [
    "data_df['tokens'] = data_df['tweet'].apply(tokenize_tweet)\n"
   ]
  },
  {
   "cell_type": "code",
   "execution_count": 100,
   "id": "59deac41",
   "metadata": {},
   "outputs": [],
   "source": [
    "data_df['word_count'] = data_df['tokens'].apply((Counter))"
   ]
  },
  {
   "cell_type": "code",
   "execution_count": 101,
   "id": "f1dbde9b",
   "metadata": {},
   "outputs": [],
   "source": [
    "data_df['tweet_timestamp'] = pd.to_datetime(data_df['tweet_timestamp'], format='%Y-%m-%d %H:%M:%S')"
   ]
  },
  {
   "cell_type": "code",
   "execution_count": 104,
   "id": "3bb31876",
   "metadata": {},
   "outputs": [
    {
     "ename": "KeyboardInterrupt",
     "evalue": "",
     "output_type": "error",
     "traceback": [
      "\u001b[1;31m---------------------------------------------------------------------------\u001b[0m",
      "\u001b[1;31mKeyboardInterrupt\u001b[0m                         Traceback (most recent call last)",
      "Input \u001b[1;32mIn [104]\u001b[0m, in \u001b[0;36m<cell line: 4>\u001b[1;34m()\u001b[0m\n\u001b[0;32m      1\u001b[0m \u001b[38;5;28;01mdef\u001b[39;00m \u001b[38;5;21mmerge_dicts\u001b[39m(x):\n\u001b[0;32m      2\u001b[0m     \u001b[38;5;28;01mreturn\u001b[39;00m {k: v \u001b[38;5;28;01mfor\u001b[39;00m d \u001b[38;5;129;01min\u001b[39;00m x\u001b[38;5;241m.\u001b[39mdropna() \u001b[38;5;28;01mfor\u001b[39;00m k, v \u001b[38;5;129;01min\u001b[39;00m d\u001b[38;5;241m.\u001b[39mitems()}\n\u001b[1;32m----> 4\u001b[0m word_count_weekly \u001b[38;5;241m=\u001b[39m \u001b[43mdata_df\u001b[49m\u001b[38;5;241;43m.\u001b[39;49m\u001b[43mgroupby\u001b[49m\u001b[43m(\u001b[49m\u001b[43mpd\u001b[49m\u001b[38;5;241;43m.\u001b[39;49m\u001b[43mGrouper\u001b[49m\u001b[43m(\u001b[49m\u001b[43mkey\u001b[49m\u001b[38;5;241;43m=\u001b[39;49m\u001b[38;5;124;43m'\u001b[39;49m\u001b[38;5;124;43mtweet_timestamp\u001b[39;49m\u001b[38;5;124;43m'\u001b[39;49m\u001b[43m,\u001b[49m\u001b[43m \u001b[49m\u001b[43maxis\u001b[49m\u001b[38;5;241;43m=\u001b[39;49m\u001b[38;5;241;43m0\u001b[39;49m\u001b[43m,\u001b[49m\u001b[43m \u001b[49m\u001b[43mfreq\u001b[49m\u001b[38;5;241;43m=\u001b[39;49m\u001b[38;5;124;43m'\u001b[39;49m\u001b[38;5;124;43m7D\u001b[39;49m\u001b[38;5;124;43m'\u001b[39;49m\u001b[43m,\u001b[49m\u001b[43m \u001b[49m\u001b[43msort\u001b[49m\u001b[38;5;241;43m=\u001b[39;49m\u001b[38;5;28;43;01mTrue\u001b[39;49;00m\u001b[43m)\u001b[49m\u001b[43m)\u001b[49m\u001b[43m[\u001b[49m\u001b[38;5;124;43m'\u001b[39;49m\u001b[38;5;124;43mword_count\u001b[39;49m\u001b[38;5;124;43m'\u001b[39;49m\u001b[43m]\u001b[49m\u001b[38;5;241;43m.\u001b[39;49m\u001b[43msum\u001b[49m\u001b[43m(\u001b[49m\u001b[43m)\u001b[49m\n",
      "File \u001b[1;32m~\\anaconda3\\lib\\site-packages\\pandas\\core\\groupby\\groupby.py:2198\u001b[0m, in \u001b[0;36mGroupBy.sum\u001b[1;34m(self, numeric_only, min_count, engine, engine_kwargs)\u001b[0m\n\u001b[0;32m   2194\u001b[0m \u001b[38;5;66;03m# If we are grouping on categoricals we want unobserved categories to\u001b[39;00m\n\u001b[0;32m   2195\u001b[0m \u001b[38;5;66;03m# return zero, rather than the default of NaN which the reindexing in\u001b[39;00m\n\u001b[0;32m   2196\u001b[0m \u001b[38;5;66;03m# _agg_general() returns. GH #31422\u001b[39;00m\n\u001b[0;32m   2197\u001b[0m \u001b[38;5;28;01mwith\u001b[39;00m com\u001b[38;5;241m.\u001b[39mtemp_setattr(\u001b[38;5;28mself\u001b[39m, \u001b[38;5;124m\"\u001b[39m\u001b[38;5;124mobserved\u001b[39m\u001b[38;5;124m\"\u001b[39m, \u001b[38;5;28;01mTrue\u001b[39;00m):\n\u001b[1;32m-> 2198\u001b[0m     result \u001b[38;5;241m=\u001b[39m \u001b[38;5;28;43mself\u001b[39;49m\u001b[38;5;241;43m.\u001b[39;49m\u001b[43m_agg_general\u001b[49m\u001b[43m(\u001b[49m\n\u001b[0;32m   2199\u001b[0m \u001b[43m        \u001b[49m\u001b[43mnumeric_only\u001b[49m\u001b[38;5;241;43m=\u001b[39;49m\u001b[43mnumeric_only\u001b[49m\u001b[43m,\u001b[49m\n\u001b[0;32m   2200\u001b[0m \u001b[43m        \u001b[49m\u001b[43mmin_count\u001b[49m\u001b[38;5;241;43m=\u001b[39;49m\u001b[43mmin_count\u001b[49m\u001b[43m,\u001b[49m\n\u001b[0;32m   2201\u001b[0m \u001b[43m        \u001b[49m\u001b[43malias\u001b[49m\u001b[38;5;241;43m=\u001b[39;49m\u001b[38;5;124;43m\"\u001b[39;49m\u001b[38;5;124;43madd\u001b[39;49m\u001b[38;5;124;43m\"\u001b[39;49m\u001b[43m,\u001b[49m\n\u001b[0;32m   2202\u001b[0m \u001b[43m        \u001b[49m\u001b[43mnpfunc\u001b[49m\u001b[38;5;241;43m=\u001b[39;49m\u001b[43mnp\u001b[49m\u001b[38;5;241;43m.\u001b[39;49m\u001b[43msum\u001b[49m\u001b[43m,\u001b[49m\n\u001b[0;32m   2203\u001b[0m \u001b[43m    \u001b[49m\u001b[43m)\u001b[49m\n\u001b[0;32m   2205\u001b[0m \u001b[38;5;28;01mreturn\u001b[39;00m \u001b[38;5;28mself\u001b[39m\u001b[38;5;241m.\u001b[39m_reindex_output(result, fill_value\u001b[38;5;241m=\u001b[39m\u001b[38;5;241m0\u001b[39m)\n",
      "File \u001b[1;32m~\\anaconda3\\lib\\site-packages\\pandas\\core\\groupby\\groupby.py:1515\u001b[0m, in \u001b[0;36mGroupBy._agg_general\u001b[1;34m(self, numeric_only, min_count, alias, npfunc)\u001b[0m\n\u001b[0;32m   1503\u001b[0m \u001b[38;5;129m@final\u001b[39m\n\u001b[0;32m   1504\u001b[0m \u001b[38;5;28;01mdef\u001b[39;00m \u001b[38;5;21m_agg_general\u001b[39m(\n\u001b[0;32m   1505\u001b[0m     \u001b[38;5;28mself\u001b[39m,\n\u001b[1;32m   (...)\u001b[0m\n\u001b[0;32m   1510\u001b[0m     npfunc: Callable,\n\u001b[0;32m   1511\u001b[0m ):\n\u001b[0;32m   1513\u001b[0m     \u001b[38;5;28;01mwith\u001b[39;00m \u001b[38;5;28mself\u001b[39m\u001b[38;5;241m.\u001b[39m_group_selection_context():\n\u001b[0;32m   1514\u001b[0m         \u001b[38;5;66;03m# try a cython aggregation if we can\u001b[39;00m\n\u001b[1;32m-> 1515\u001b[0m         result \u001b[38;5;241m=\u001b[39m \u001b[38;5;28;43mself\u001b[39;49m\u001b[38;5;241;43m.\u001b[39;49m\u001b[43m_cython_agg_general\u001b[49m\u001b[43m(\u001b[49m\n\u001b[0;32m   1516\u001b[0m \u001b[43m            \u001b[49m\u001b[43mhow\u001b[49m\u001b[38;5;241;43m=\u001b[39;49m\u001b[43malias\u001b[49m\u001b[43m,\u001b[49m\n\u001b[0;32m   1517\u001b[0m \u001b[43m            \u001b[49m\u001b[43malt\u001b[49m\u001b[38;5;241;43m=\u001b[39;49m\u001b[43mnpfunc\u001b[49m\u001b[43m,\u001b[49m\n\u001b[0;32m   1518\u001b[0m \u001b[43m            \u001b[49m\u001b[43mnumeric_only\u001b[49m\u001b[38;5;241;43m=\u001b[39;49m\u001b[43mnumeric_only\u001b[49m\u001b[43m,\u001b[49m\n\u001b[0;32m   1519\u001b[0m \u001b[43m            \u001b[49m\u001b[43mmin_count\u001b[49m\u001b[38;5;241;43m=\u001b[39;49m\u001b[43mmin_count\u001b[49m\u001b[43m,\u001b[49m\n\u001b[0;32m   1520\u001b[0m \u001b[43m        \u001b[49m\u001b[43m)\u001b[49m\n\u001b[0;32m   1521\u001b[0m         \u001b[38;5;28;01mreturn\u001b[39;00m result\u001b[38;5;241m.\u001b[39m__finalize__(\u001b[38;5;28mself\u001b[39m\u001b[38;5;241m.\u001b[39mobj, method\u001b[38;5;241m=\u001b[39m\u001b[38;5;124m\"\u001b[39m\u001b[38;5;124mgroupby\u001b[39m\u001b[38;5;124m\"\u001b[39m)\n",
      "File \u001b[1;32m~\\anaconda3\\lib\\site-packages\\pandas\\core\\groupby\\groupby.py:1601\u001b[0m, in \u001b[0;36mGroupBy._cython_agg_general\u001b[1;34m(self, how, alt, numeric_only, min_count)\u001b[0m\n\u001b[0;32m   1597\u001b[0m     \u001b[38;5;28;01mreturn\u001b[39;00m result\n\u001b[0;32m   1599\u001b[0m \u001b[38;5;66;03m# TypeError -> we may have an exception in trying to aggregate\u001b[39;00m\n\u001b[0;32m   1600\u001b[0m \u001b[38;5;66;03m#  continue and exclude the block\u001b[39;00m\n\u001b[1;32m-> 1601\u001b[0m new_mgr \u001b[38;5;241m=\u001b[39m \u001b[43mdata\u001b[49m\u001b[38;5;241;43m.\u001b[39;49m\u001b[43mgrouped_reduce\u001b[49m\u001b[43m(\u001b[49m\u001b[43marray_func\u001b[49m\u001b[43m,\u001b[49m\u001b[43m \u001b[49m\u001b[43mignore_failures\u001b[49m\u001b[38;5;241;43m=\u001b[39;49m\u001b[38;5;28;43;01mTrue\u001b[39;49;00m\u001b[43m)\u001b[49m\n\u001b[0;32m   1603\u001b[0m \u001b[38;5;28;01mif\u001b[39;00m \u001b[38;5;129;01mnot\u001b[39;00m is_ser \u001b[38;5;129;01mand\u001b[39;00m \u001b[38;5;28mlen\u001b[39m(new_mgr) \u001b[38;5;241m<\u001b[39m \u001b[38;5;28mlen\u001b[39m(data):\n\u001b[0;32m   1604\u001b[0m     warn_dropping_nuisance_columns_deprecated(\u001b[38;5;28mtype\u001b[39m(\u001b[38;5;28mself\u001b[39m), how)\n",
      "File \u001b[1;32m~\\anaconda3\\lib\\site-packages\\pandas\\core\\internals\\base.py:199\u001b[0m, in \u001b[0;36mSingleDataManager.grouped_reduce\u001b[1;34m(self, func, ignore_failures)\u001b[0m\n\u001b[0;32m    193\u001b[0m \u001b[38;5;124;03m\"\"\"\u001b[39;00m\n\u001b[0;32m    194\u001b[0m \u001b[38;5;124;03mignore_failures : bool, default False\u001b[39;00m\n\u001b[0;32m    195\u001b[0m \u001b[38;5;124;03m    Not used; for compatibility with ArrayManager/BlockManager.\u001b[39;00m\n\u001b[0;32m    196\u001b[0m \u001b[38;5;124;03m\"\"\"\u001b[39;00m\n\u001b[0;32m    198\u001b[0m arr \u001b[38;5;241m=\u001b[39m \u001b[38;5;28mself\u001b[39m\u001b[38;5;241m.\u001b[39marray\n\u001b[1;32m--> 199\u001b[0m res \u001b[38;5;241m=\u001b[39m \u001b[43mfunc\u001b[49m\u001b[43m(\u001b[49m\u001b[43marr\u001b[49m\u001b[43m)\u001b[49m\n\u001b[0;32m    200\u001b[0m index \u001b[38;5;241m=\u001b[39m default_index(\u001b[38;5;28mlen\u001b[39m(res))\n\u001b[0;32m    202\u001b[0m mgr \u001b[38;5;241m=\u001b[39m \u001b[38;5;28mtype\u001b[39m(\u001b[38;5;28mself\u001b[39m)\u001b[38;5;241m.\u001b[39mfrom_array(res, index)\n",
      "File \u001b[1;32m~\\anaconda3\\lib\\site-packages\\pandas\\core\\groupby\\groupby.py:1587\u001b[0m, in \u001b[0;36mGroupBy._cython_agg_general.<locals>.array_func\u001b[1;34m(values)\u001b[0m\n\u001b[0;32m   1585\u001b[0m \u001b[38;5;28;01mdef\u001b[39;00m \u001b[38;5;21marray_func\u001b[39m(values: ArrayLike) \u001b[38;5;241m-\u001b[39m\u001b[38;5;241m>\u001b[39m ArrayLike:\n\u001b[0;32m   1586\u001b[0m     \u001b[38;5;28;01mtry\u001b[39;00m:\n\u001b[1;32m-> 1587\u001b[0m         result \u001b[38;5;241m=\u001b[39m \u001b[38;5;28;43mself\u001b[39;49m\u001b[38;5;241;43m.\u001b[39;49m\u001b[43mgrouper\u001b[49m\u001b[38;5;241;43m.\u001b[39;49m\u001b[43m_cython_operation\u001b[49m\u001b[43m(\u001b[49m\n\u001b[0;32m   1588\u001b[0m \u001b[43m            \u001b[49m\u001b[38;5;124;43m\"\u001b[39;49m\u001b[38;5;124;43maggregate\u001b[39;49m\u001b[38;5;124;43m\"\u001b[39;49m\u001b[43m,\u001b[49m\u001b[43m \u001b[49m\u001b[43mvalues\u001b[49m\u001b[43m,\u001b[49m\u001b[43m \u001b[49m\u001b[43mhow\u001b[49m\u001b[43m,\u001b[49m\u001b[43m \u001b[49m\u001b[43maxis\u001b[49m\u001b[38;5;241;43m=\u001b[39;49m\u001b[43mdata\u001b[49m\u001b[38;5;241;43m.\u001b[39;49m\u001b[43mndim\u001b[49m\u001b[43m \u001b[49m\u001b[38;5;241;43m-\u001b[39;49m\u001b[43m \u001b[49m\u001b[38;5;241;43m1\u001b[39;49m\u001b[43m,\u001b[49m\u001b[43m \u001b[49m\u001b[43mmin_count\u001b[49m\u001b[38;5;241;43m=\u001b[39;49m\u001b[43mmin_count\u001b[49m\n\u001b[0;32m   1589\u001b[0m \u001b[43m        \u001b[49m\u001b[43m)\u001b[49m\n\u001b[0;32m   1590\u001b[0m     \u001b[38;5;28;01mexcept\u001b[39;00m \u001b[38;5;167;01mNotImplementedError\u001b[39;00m:\n\u001b[0;32m   1591\u001b[0m         \u001b[38;5;66;03m# generally if we have numeric_only=False\u001b[39;00m\n\u001b[0;32m   1592\u001b[0m         \u001b[38;5;66;03m# and non-applicable functions\u001b[39;00m\n\u001b[0;32m   1593\u001b[0m         \u001b[38;5;66;03m# try to python agg\u001b[39;00m\n\u001b[0;32m   1594\u001b[0m         \u001b[38;5;66;03m# TODO: shouldn't min_count matter?\u001b[39;00m\n\u001b[0;32m   1595\u001b[0m         result \u001b[38;5;241m=\u001b[39m \u001b[38;5;28mself\u001b[39m\u001b[38;5;241m.\u001b[39m_agg_py_fallback(values, ndim\u001b[38;5;241m=\u001b[39mdata\u001b[38;5;241m.\u001b[39mndim, alt\u001b[38;5;241m=\u001b[39malt)\n",
      "File \u001b[1;32m~\\anaconda3\\lib\\site-packages\\pandas\\core\\groupby\\ops.py:939\u001b[0m, in \u001b[0;36mBaseGrouper._cython_operation\u001b[1;34m(self, kind, values, how, axis, min_count, **kwargs)\u001b[0m\n\u001b[0;32m    937\u001b[0m ids, _, _ \u001b[38;5;241m=\u001b[39m \u001b[38;5;28mself\u001b[39m\u001b[38;5;241m.\u001b[39mgroup_info\n\u001b[0;32m    938\u001b[0m ngroups \u001b[38;5;241m=\u001b[39m \u001b[38;5;28mself\u001b[39m\u001b[38;5;241m.\u001b[39mngroups\n\u001b[1;32m--> 939\u001b[0m \u001b[38;5;28;01mreturn\u001b[39;00m cy_op\u001b[38;5;241m.\u001b[39mcython_operation(\n\u001b[0;32m    940\u001b[0m     values\u001b[38;5;241m=\u001b[39mvalues,\n\u001b[0;32m    941\u001b[0m     axis\u001b[38;5;241m=\u001b[39maxis,\n\u001b[0;32m    942\u001b[0m     min_count\u001b[38;5;241m=\u001b[39mmin_count,\n\u001b[0;32m    943\u001b[0m     comp_ids\u001b[38;5;241m=\u001b[39mids,\n\u001b[0;32m    944\u001b[0m     ngroups\u001b[38;5;241m=\u001b[39mngroups,\n\u001b[0;32m    945\u001b[0m     \u001b[38;5;241m*\u001b[39m\u001b[38;5;241m*\u001b[39mkwargs,\n\u001b[0;32m    946\u001b[0m )\n",
      "File \u001b[1;32m~\\anaconda3\\lib\\site-packages\\pandas\\core\\groupby\\ops.py:626\u001b[0m, in \u001b[0;36mWrappedCythonOp.cython_operation\u001b[1;34m(self, values, axis, min_count, comp_ids, ngroups, **kwargs)\u001b[0m\n\u001b[0;32m    616\u001b[0m \u001b[38;5;28;01mif\u001b[39;00m \u001b[38;5;129;01mnot\u001b[39;00m \u001b[38;5;28misinstance\u001b[39m(values, np\u001b[38;5;241m.\u001b[39mndarray):\n\u001b[0;32m    617\u001b[0m     \u001b[38;5;66;03m# i.e. ExtensionArray\u001b[39;00m\n\u001b[0;32m    618\u001b[0m     \u001b[38;5;28;01mreturn\u001b[39;00m \u001b[38;5;28mself\u001b[39m\u001b[38;5;241m.\u001b[39m_ea_wrap_cython_operation(\n\u001b[0;32m    619\u001b[0m         values,\n\u001b[0;32m    620\u001b[0m         min_count\u001b[38;5;241m=\u001b[39mmin_count,\n\u001b[1;32m   (...)\u001b[0m\n\u001b[0;32m    623\u001b[0m         \u001b[38;5;241m*\u001b[39m\u001b[38;5;241m*\u001b[39mkwargs,\n\u001b[0;32m    624\u001b[0m     )\n\u001b[1;32m--> 626\u001b[0m \u001b[38;5;28;01mreturn\u001b[39;00m \u001b[38;5;28mself\u001b[39m\u001b[38;5;241m.\u001b[39m_cython_op_ndim_compat(\n\u001b[0;32m    627\u001b[0m     values,\n\u001b[0;32m    628\u001b[0m     min_count\u001b[38;5;241m=\u001b[39mmin_count,\n\u001b[0;32m    629\u001b[0m     ngroups\u001b[38;5;241m=\u001b[39mngroups,\n\u001b[0;32m    630\u001b[0m     comp_ids\u001b[38;5;241m=\u001b[39mcomp_ids,\n\u001b[0;32m    631\u001b[0m     mask\u001b[38;5;241m=\u001b[39m\u001b[38;5;28;01mNone\u001b[39;00m,\n\u001b[0;32m    632\u001b[0m     \u001b[38;5;241m*\u001b[39m\u001b[38;5;241m*\u001b[39mkwargs,\n\u001b[0;32m    633\u001b[0m )\n",
      "File \u001b[1;32m~\\anaconda3\\lib\\site-packages\\pandas\\core\\groupby\\ops.py:451\u001b[0m, in \u001b[0;36mWrappedCythonOp._cython_op_ndim_compat\u001b[1;34m(self, values, min_count, ngroups, comp_ids, mask, result_mask, **kwargs)\u001b[0m\n\u001b[0;32m    449\u001b[0m \u001b[38;5;28;01mif\u001b[39;00m result_mask \u001b[38;5;129;01mis\u001b[39;00m \u001b[38;5;129;01mnot\u001b[39;00m \u001b[38;5;28;01mNone\u001b[39;00m:\n\u001b[0;32m    450\u001b[0m     result_mask \u001b[38;5;241m=\u001b[39m result_mask[\u001b[38;5;28;01mNone\u001b[39;00m, :]\n\u001b[1;32m--> 451\u001b[0m res \u001b[38;5;241m=\u001b[39m \u001b[38;5;28mself\u001b[39m\u001b[38;5;241m.\u001b[39m_call_cython_op(\n\u001b[0;32m    452\u001b[0m     values2d,\n\u001b[0;32m    453\u001b[0m     min_count\u001b[38;5;241m=\u001b[39mmin_count,\n\u001b[0;32m    454\u001b[0m     ngroups\u001b[38;5;241m=\u001b[39mngroups,\n\u001b[0;32m    455\u001b[0m     comp_ids\u001b[38;5;241m=\u001b[39mcomp_ids,\n\u001b[0;32m    456\u001b[0m     mask\u001b[38;5;241m=\u001b[39mmask,\n\u001b[0;32m    457\u001b[0m     result_mask\u001b[38;5;241m=\u001b[39mresult_mask,\n\u001b[0;32m    458\u001b[0m     \u001b[38;5;241m*\u001b[39m\u001b[38;5;241m*\u001b[39mkwargs,\n\u001b[0;32m    459\u001b[0m )\n\u001b[0;32m    460\u001b[0m \u001b[38;5;28;01mif\u001b[39;00m res\u001b[38;5;241m.\u001b[39mshape[\u001b[38;5;241m0\u001b[39m] \u001b[38;5;241m==\u001b[39m \u001b[38;5;241m1\u001b[39m:\n\u001b[0;32m    461\u001b[0m     \u001b[38;5;28;01mreturn\u001b[39;00m res[\u001b[38;5;241m0\u001b[39m]\n",
      "File \u001b[1;32m~\\anaconda3\\lib\\site-packages\\pandas\\core\\groupby\\ops.py:535\u001b[0m, in \u001b[0;36mWrappedCythonOp._call_cython_op\u001b[1;34m(self, values, min_count, ngroups, comp_ids, mask, result_mask, **kwargs)\u001b[0m\n\u001b[0;32m    523\u001b[0m     func(\n\u001b[0;32m    524\u001b[0m         result,\n\u001b[0;32m    525\u001b[0m         counts,\n\u001b[1;32m   (...)\u001b[0m\n\u001b[0;32m    531\u001b[0m         is_datetimelike\u001b[38;5;241m=\u001b[39mis_datetimelike,\n\u001b[0;32m    532\u001b[0m     )\n\u001b[0;32m    533\u001b[0m \u001b[38;5;28;01melif\u001b[39;00m \u001b[38;5;28mself\u001b[39m\u001b[38;5;241m.\u001b[39mhow \u001b[38;5;129;01min\u001b[39;00m [\u001b[38;5;124m\"\u001b[39m\u001b[38;5;124madd\u001b[39m\u001b[38;5;124m\"\u001b[39m]:\n\u001b[0;32m    534\u001b[0m     \u001b[38;5;66;03m# We support datetimelike\u001b[39;00m\n\u001b[1;32m--> 535\u001b[0m     \u001b[43mfunc\u001b[49m\u001b[43m(\u001b[49m\n\u001b[0;32m    536\u001b[0m \u001b[43m        \u001b[49m\u001b[43mresult\u001b[49m\u001b[43m,\u001b[49m\n\u001b[0;32m    537\u001b[0m \u001b[43m        \u001b[49m\u001b[43mcounts\u001b[49m\u001b[43m,\u001b[49m\n\u001b[0;32m    538\u001b[0m \u001b[43m        \u001b[49m\u001b[43mvalues\u001b[49m\u001b[43m,\u001b[49m\n\u001b[0;32m    539\u001b[0m \u001b[43m        \u001b[49m\u001b[43mcomp_ids\u001b[49m\u001b[43m,\u001b[49m\n\u001b[0;32m    540\u001b[0m \u001b[43m        \u001b[49m\u001b[43mmin_count\u001b[49m\u001b[43m,\u001b[49m\n\u001b[0;32m    541\u001b[0m \u001b[43m        \u001b[49m\u001b[43mdatetimelike\u001b[49m\u001b[38;5;241;43m=\u001b[39;49m\u001b[43mis_datetimelike\u001b[49m\u001b[43m,\u001b[49m\n\u001b[0;32m    542\u001b[0m \u001b[43m    \u001b[49m\u001b[43m)\u001b[49m\n\u001b[0;32m    543\u001b[0m \u001b[38;5;28;01melse\u001b[39;00m:\n\u001b[0;32m    544\u001b[0m     func(result, counts, values, comp_ids, min_count)\n",
      "File \u001b[1;32m~\\anaconda3\\lib\\site-packages\\pandas\\_libs\\groupby.pyx:540\u001b[0m, in \u001b[0;36mpandas._libs.groupby.group_add\u001b[1;34m()\u001b[0m\n",
      "File \u001b[1;32m~\\anaconda3\\lib\\collections\\__init__.py:762\u001b[0m, in \u001b[0;36mCounter.__add__\u001b[1;34m(self, other)\u001b[0m\n\u001b[0;32m    760\u001b[0m     newcount \u001b[38;5;241m=\u001b[39m count \u001b[38;5;241m+\u001b[39m other[elem]\n\u001b[0;32m    761\u001b[0m     \u001b[38;5;28;01mif\u001b[39;00m newcount \u001b[38;5;241m>\u001b[39m \u001b[38;5;241m0\u001b[39m:\n\u001b[1;32m--> 762\u001b[0m         result[elem] \u001b[38;5;241m=\u001b[39m newcount\n\u001b[0;32m    763\u001b[0m \u001b[38;5;28;01mfor\u001b[39;00m elem, count \u001b[38;5;129;01min\u001b[39;00m other\u001b[38;5;241m.\u001b[39mitems():\n\u001b[0;32m    764\u001b[0m     \u001b[38;5;28;01mif\u001b[39;00m elem \u001b[38;5;129;01mnot\u001b[39;00m \u001b[38;5;129;01min\u001b[39;00m \u001b[38;5;28mself\u001b[39m \u001b[38;5;129;01mand\u001b[39;00m count \u001b[38;5;241m>\u001b[39m \u001b[38;5;241m0\u001b[39m:\n",
      "\u001b[1;31mKeyboardInterrupt\u001b[0m: "
     ]
    }
   ],
   "source": [
    "def merge_dicts(x):\n",
    "    return {k: v for d in x.dropna() for k, v in d.items()}\n",
    "\n",
    "word_count_weekly = data_df.groupby(pd.Grouper(key='tweet_timestamp', axis=0, freq='7D', sort=True))['word_count'].sum()"
   ]
  },
  {
   "cell_type": "markdown",
   "id": "4f80db48",
   "metadata": {},
   "source": [
    "# Identify communities"
   ]
  },
  {
   "cell_type": "code",
   "execution_count": null,
   "id": "836650c7",
   "metadata": {},
   "outputs": [],
   "source": [
    "partition = community.best_partition(g)"
   ]
  },
  {
   "cell_type": "code",
   "execution_count": null,
   "id": "5ceff3f5",
   "metadata": {},
   "outputs": [],
   "source": [
    "communities = np.unique(list(partition.values()))"
   ]
  },
  {
   "cell_type": "code",
   "execution_count": null,
   "id": "3e2f6233",
   "metadata": {},
   "outputs": [],
   "source": []
  }
 ],
 "metadata": {
  "kernelspec": {
   "display_name": "Python 3",
   "language": "python",
   "name": "python3"
  },
  "language_info": {
   "codemirror_mode": {
    "name": "ipython",
    "version": 3
   },
   "file_extension": ".py",
   "mimetype": "text/x-python",
   "name": "python",
   "nbconvert_exporter": "python",
   "pygments_lexer": "ipython3",
   "version": "3.8.5"
  },
  "vscode": {
   "interpreter": {
    "hash": "9737f18efb1b9d105cd953add47348769fd82af91ada1884766527cfb8bc009e"
   }
  }
 },
 "nbformat": 4,
 "nbformat_minor": 5
}
